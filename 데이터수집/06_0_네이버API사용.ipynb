{
 "cells": [
  {
   "cell_type": "markdown",
   "id": "e6ffd0c8",
   "metadata": {},
   "source": [
    "## 네이버 OPEN API\n",
    "### 인증 여부에 따라 구분\n",
    "- 로그인 방식 오픈 API\n",
    "- 비로그인 방식 오픈 API\n",
    "    - HTTP 헤더에 클라이언트 아이디와 클라이언트 시크릿 값만 전송해 사용할 수 있는 오픈 API\n",
    "    - 네이버 아이디로 로그인의 인증을 통한 접근 토큰을 획득할 필요가 없음\n",
    "    - 검색, 공유하기, 지도, 캡차(이미지) 등의 오픈 API\n",
    "- 개발자 센터에 개발자 등록 후\n",
    "    - client_id 와 client_key를 발급받아 사용"
   ]
  },
  {
   "cell_type": "code",
   "execution_count": 1,
   "id": "6ff1a661",
   "metadata": {},
   "outputs": [],
   "source": [
    "# 네이버 검색 API는 블로그부터 전문자료까지 호출 방법임 동일\n",
    "import os\n",
    "import sys\n",
    "import urllib.request"
   ]
  },
  {
   "cell_type": "code",
   "execution_count": 9,
   "id": "971f8998",
   "metadata": {},
   "outputs": [],
   "source": [
    "client_id = \"\"\n",
    "client_secret = \"\"\n",
    "q_text = urllib.parse.quote(\"강남역\")"
   ]
  },
  {
   "cell_type": "code",
   "execution_count": 10,
   "id": "88a9a6f5",
   "metadata": {},
   "outputs": [],
   "source": [
    "url = \"https://openapi.naver.com/v1/search/blog?query=\" + q_text"
   ]
  },
  {
   "cell_type": "code",
   "execution_count": 11,
   "id": "b03a897b",
   "metadata": {},
   "outputs": [],
   "source": [
    "request = urllib.request.Request(url)\n",
    "request.add_header(\"X-Naver-Client-Id\",client_id)\n",
    "request.add_header(\"X-Naver-Client-Secret\",client_secret)"
   ]
  },
  {
   "cell_type": "code",
   "execution_count": 12,
   "id": "f4b59dc7",
   "metadata": {},
   "outputs": [],
   "source": [
    "response = urllib.request.urlopen(request)\n",
    "# HTTP Error 401: Unauthorized"
   ]
  },
  {
   "cell_type": "code",
   "execution_count": 13,
   "id": "b689897b",
   "metadata": {},
   "outputs": [],
   "source": [
    "rescode = response.getcode()"
   ]
  },
  {
   "cell_type": "code",
   "execution_count": 14,
   "id": "91559297",
   "metadata": {},
   "outputs": [
    {
     "name": "stdout",
     "output_type": "stream",
     "text": [
      "{\n",
      "\t\"lastBuildDate\":\"Wed, 19 Apr 2023 16:55:03 +0900\",\n",
      "\t\"total\":2048973,\n",
      "\t\"start\":1,\n",
      "\t\"display\":10,\n",
      "\t\"items\":[\n",
      "\t\t{\n",
      "\t\t\t\"title\":\"<b>강남역<\\/b>피부과 바디인모드 예쁜 팔뚝 후기\",\n",
      "\t\t\t\"link\":\"https:\\/\\/blog.naver.com\\/ramiyaa07\\/223064704329\",\n",
      "\t\t\t\"description\":\"그래서 그냥 <b>강남역<\\/b>피부과를 찾아 상담해본 후 믿고 진행하기로 했어요ㅋㅋㅋㅋㅋ 바디인모드를 찾는... 이제 <b>강남역<\\/b>피부과 바디인모드 후기 시작할께요⸜( ˙ ˘ ˙)⸝♡ [<b>강남역<\\/b> 10번 출구 앞] 제가 선택한... \",\n",
      "\t\t\t\"bloggername\":\"Rami&apos;s Starry Moment\",\n",
      "\t\t\t\"bloggerlink\":\"blog.naver.com\\/ramiyaa07\",\n",
      "\t\t\t\"postdate\":\"20230404\"\n",
      "\t\t},\n",
      "\t\t{\n",
      "\t\t\t\"title\":\"구성 좋았던 <b>강남역<\\/b> 고기집\",\n",
      "\t\t\t\"link\":\"https:\\/\\/blog.naver.com\\/jannet_j\\/223078043763\",\n",
      "\t\t\t\"description\":\"시원하면서 새콤한 풍미가 기름진 입안을 깔끔하게 정돈시켜주어 입가심으로도 탁월했던 <b>강남역<\\/b> 고기집이에요! 주소 : 서울 강남구 학동로2길 17 번호 : 02-515-6450 영업시간 : 평일 11:30 - 23:00(브레이크타임 13:00~16... \",\n",
      "\t\t\t\"bloggername\":\"세상의 빛\",\n",
      "\t\t\t\"bloggerlink\":\"blog.naver.com\\/jannet_j\",\n",
      "\t\t\t\"postdate\":\"20230418\"\n",
      "\t\t},\n",
      "\t\t{\n",
      "\t\t\t\"title\":\"특별했던 <b>강남역<\\/b> 고기집♥\",\n",
      "\t\t\t\"link\":\"https:\\/\\/blog.naver.com\\/relaxhoi\\/223060987627\",\n",
      "\t\t\t\"description\":\"매우매오 <b>강남역<\\/b>별관 주소 : 서울 강남구 봉은사로4길 19 1층 전화번호 : 02-557-5788 영업시간 : 매일 11:30 - 22:00 본 포스팅은 업체로부터 소정의 원고료를 제공받아 작성된 후기입니다.\",\n",
      "\t\t\t\"bloggername\":\"그 기억 어느 날\",\n",
      "\t\t\t\"bloggerlink\":\"blog.naver.com\\/relaxhoi\",\n",
      "\t\t\t\"postdate\":\"20230331\"\n",
      "\t\t},\n",
      "\t\t{\n",
      "\t\t\t\"title\":\"<b>강남역<\\/b>왁싱 아프지 않아서 좋아요.\",\n",
      "\t\t\t\"link\":\"https:\\/\\/blog.naver.com\\/hyunssook\\/223078540230\",\n",
      "\t\t\t\"description\":\"주변 지인이 <b>강남역<\\/b>왁싱으로 직접 이용하고 있는 곳을 알려주었어요. 친절하시기도 하고 아프지 않게 깨끗하게 잘 해주신다고 하더라고요. 미리 예약하고 방문해 보았어요. 바로 사만다왁싱 <b>강남역<\\/b>점! 첫방문 50... \",\n",
      "\t\t\t\"bloggername\":\"My Story\",\n",
      "\t\t\t\"bloggerlink\":\"blog.naver.com\\/hyunssook\",\n",
      "\t\t\t\"postdate\":\"20230418\"\n",
      "\t\t},\n",
      "\t\t{\n",
      "\t\t\t\"title\":\"호강하고 온 <b>강남역<\\/b> 고기집\",\n",
      "\t\t\t\"link\":\"https:\\/\\/blog.naver.com\\/joomi220\\/223076191419\",\n",
      "\t\t\t\"description\":\"저번주 친구들과 강남에서 만나 평소에 먹어보고 싶었던 <b>강남역<\\/b> 고기집에 방문해 식사를 했어요. 육즙 풍부한 통삼겹과 손맛 가득한 기본찬에 서비스까지 완벽했던 곳이라 소개해드릴까합니다. 주소 : 서울... \",\n",
      "\t\t\t\"bloggername\":\"주미? Do you know Joomi?\",\n",
      "\t\t\t\"bloggerlink\":\"blog.naver.com\\/joomi220\",\n",
      "\t\t\t\"postdate\":\"20230416\"\n",
      "\t\t},\n",
      "\t\t{\n",
      "\t\t\t\"title\":\"메리트 있던 <b>강남역<\\/b> 고기집\",\n",
      "\t\t\t\"link\":\"https:\\/\\/blog.naver.com\\/dlsck00\\/223073581916\",\n",
      "\t\t\t\"description\":\"#<b>강남역<\\/b>고기집 #교대이층집강남cgv 오래간만에 재회한 친구와 회포도 풀겸 <b>강남역<\\/b> 고기집을 들러보았어요. 최상급 육질의 한돈을 부담없는 가격대로 즐기고 온 곳이라 여러분께도 소개해드릴게요. 교대이층집... \",\n",
      "\t\t\t\"bloggername\":\"연이색시의행복한이야기\",\n",
      "\t\t\t\"bloggerlink\":\"blog.naver.com\\/dlsck00\",\n",
      "\t\t\t\"postdate\":\"20230413\"\n",
      "\t\t},\n",
      "\t\t{\n",
      "\t\t\t\"title\":\"줄서먹는 <b>강남역<\\/b> 고기집\",\n",
      "\t\t\t\"link\":\"https:\\/\\/blog.naver.com\\/soultree23_\\/223072403920\",\n",
      "\t\t\t\"description\":\"한판도 주소:서울 강남구 테헤란로10길 9 그랑프리빌딩 1층 반호:0507-1382-3959 영업시간:11:30-22:00 이날 찾아간 곳은 <b>강남역<\\/b>에서 도보로 4분 거리에 위치해있었습니다. 거대한 크기의 단독 건물 정면에 상호가... \",\n",
      "\t\t\t\"bloggername\":\"Y연세디앤유치과Y\",\n",
      "\t\t\t\"bloggerlink\":\"blog.naver.com\\/soultree23_\",\n",
      "\t\t\t\"postdate\":\"20230412\"\n",
      "\t\t},\n",
      "\t\t{\n",
      "\t\t\t\"title\":\"부드러운 육질 <b>강남역<\\/b> 삼겹살\",\n",
      "\t\t\t\"link\":\"https:\\/\\/blog.naver.com\\/bodyrental\\/223076250487\",\n",
      "\t\t\t\"description\":\"오랜만에 친구들과 떠난 서울 여행에서 리뷰가 좋았던 <b>강남역<\\/b> 삼겹살 고깃집에 방문했는데요. 고기 퀄리티는 물론이고 다양한 반찬 구성까지 완벽했던 곳이라 리뷰해 보려고 합니다. 주소 : 강남구 역삼동 619-14... \",\n",
      "\t\t\t\"bloggername\":\"글로벌 헬스케어 마포공덕 라운지♡\",\n",
      "\t\t\t\"bloggerlink\":\"blog.naver.com\\/bodyrental\",\n",
      "\t\t\t\"postdate\":\"20230416\"\n",
      "\t\t},\n",
      "\t\t{\n",
      "\t\t\t\"title\":\"다채롭던 <b>강남역<\\/b> 회식장소\",\n",
      "\t\t\t\"link\":\"https:\\/\\/blog.naver.com\\/coffeeicream\\/223078190646\",\n",
      "\t\t\t\"description\":\"당시 방문한 교대이층집 강남cgv점은 <b>강남역<\\/b> 12번 출구에서 2분만 걸어가니 금새 도착했어요. 원목톤의 외벽에는 휘황찬란한 불빛의 조명들이 걸려 있어 멀리서부터 한눈에 들어왔어요. 저희 팀은 다들... \",\n",
      "\t\t\t\"bloggername\":\"해피먹보\",\n",
      "\t\t\t\"bloggerlink\":\"blog.naver.com\\/coffeeicream\",\n",
      "\t\t\t\"postdate\":\"20230418\"\n",
      "\t\t},\n",
      "\t\t{\n",
      "\t\t\t\"title\":\"<b>강남역<\\/b>안과 스마일수술 라식 라섹 가격 상담 후기\",\n",
      "\t\t\t\"link\":\"https:\\/\\/blog.naver.com\\/jaykimma920\\/223077018637\",\n",
      "\t\t\t\"description\":\"했습니다 ❤️ 강남은 워낙 주차가 힘들어 지하철이나 다른 대중교통을 추천드리는데요 ! 제가 갔던 <b>강남역<\\/b>안과는 작은 SUV까지는 무료주차도 가능하다고 하더라구요 ㅎㅎ 진작 물어보고 갈 걸 그랬죠ㅠㅠ?... \",\n",
      "\t\t\t\"bloggername\":\"↖제이의 핫스팟↗\",\n",
      "\t\t\t\"bloggerlink\":\"blog.naver.com\\/jaykimma920\",\n",
      "\t\t\t\"postdate\":\"20230417\"\n",
      "\t\t}\n",
      "\t]\n",
      "}\n"
     ]
    }
   ],
   "source": [
    "if(rescode==200):\n",
    "    response_body = response.read()\n",
    "    print(response_body.decode('utf-8'))\n",
    "else:\n",
    "    print(\"Error Code:\" + rescode)"
   ]
  },
  {
   "cell_type": "code",
   "execution_count": null,
   "id": "cb53fe76",
   "metadata": {},
   "outputs": [],
   "source": []
  },
  {
   "cell_type": "code",
   "execution_count": null,
   "id": "e01ddac3",
   "metadata": {},
   "outputs": [],
   "source": []
  },
  {
   "cell_type": "code",
   "execution_count": null,
   "id": "c0577e5e",
   "metadata": {},
   "outputs": [],
   "source": []
  }
 ],
 "metadata": {
  "kernelspec": {
   "display_name": "Python 3 (ipykernel)",
   "language": "python",
   "name": "python3"
  },
  "language_info": {
   "codemirror_mode": {
    "name": "ipython",
    "version": 3
   },
   "file_extension": ".py",
   "mimetype": "text/x-python",
   "name": "python",
   "nbconvert_exporter": "python",
   "pygments_lexer": "ipython3",
   "version": "3.9.12"
  }
 },
 "nbformat": 4,
 "nbformat_minor": 5
}
