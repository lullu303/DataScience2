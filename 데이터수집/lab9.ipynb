{
 "cells": [
  {
   "cell_type": "markdown",
   "id": "c66a3c23",
   "metadata": {},
   "source": [
    "메가박스 웹 사이트에 올려진 모가디슈라는 영화의 실관람평 페이지의 정보를 추출하는 기능을 웹 페이지 데이터 수집 방법으로 구현해서 제출한다.(10개 페이지)"
   ]
  },
  {
   "cell_type": "markdown",
   "id": "fa95b186",
   "metadata": {},
   "source": [
    "파일명 : lab9.ipynb\n",
    "관람평 글을 모아서 저장하는 csv 파일명 : movie.csv\n",
    "제출할 파일 : lab9.ipynb, movie.csv, 파일제목 : P-성명-lab9.zip\n",
    "https://www.megabox.co.kr/movie-detail/comment?rpstMovieNo=21049700\n"
   ]
  },
  {
   "cell_type": "code",
   "execution_count": 1,
   "id": "b2a371d7",
   "metadata": {},
   "outputs": [],
   "source": [
    "from urllib.request import urlopen\n",
    "from bs4 import BeautifulSoup\n",
    "import pandas as pd\n",
    "import numpy as np\n",
    "import ssl\n",
    "import requests\n",
    "from urllib.request import urlopen # 서버 요청/응답 패키지\n",
    "import bs4 # 파싱패키지"
   ]
  },
  {
   "cell_type": "markdown",
   "id": "6a1be2b7",
   "metadata": {},
   "source": [
    "- #contentData > div > div.movie-idv-story > ul > li:nth-child(5) > div.story-area \n",
    "- #contentData > div > div.movie-idv-story > ul > li:nth-child(5)\n",
    "- #contentData > div > div.movie-idv-story > ul > li:nth-child(5) > div.story-area\n",
    "- #contentData > div > div.tab-list.fixed > ul > li.on\n",
    "- #contentData > div > div.tab-list.fixed > ul"
   ]
  },
  {
   "cell_type": "code",
   "execution_count": 5,
   "id": "0f3f0298",
   "metadata": {},
   "outputs": [
    {
     "name": "stderr",
     "output_type": "stream",
     "text": [
      "/var/folders/gl/x36nbxz52h1_x2v3ctjgck7h0000gn/T/ipykernel_64791/2716291553.py:5: DeprecationWarning: executable_path has been deprecated, please pass in a Service object\n",
      "  driver = webdriver.Chrome(executable_path=\"/Users/ssamko/Downloads/chromedriver\")\n"
     ]
    }
   ],
   "source": [
    "from selenium import webdriver\n",
    "from bs4 import BeautifulSoup\n",
    "\n",
    "\n",
    "driver = webdriver.Chrome(executable_path=\"/Users/ssamko/Downloads/chromedriver\")\n",
    "url = 'https://www.megabox.co.kr/movie-detail/comment?rpstMovieNo=21049700'\n",
    "driver.get(url)\n",
    "\n",
    "soup = BeautifulSoup(driver.page_source, 'html.parser')\n",
    "\n",
    "stocks = soup.select('#contentData > div > div.movie-idv-story > ul > li:nth-child(5) > div.story-area')\n",
    "\n",
    "for stock in stocks:\n",
    "    a_tag = stock.select_one('li:nth-child(5) > div.story-area')\n",
    "    if a_tag is not None:\n",
    "        price = stock.select_one('li:nth-child(5)').text\n",
    "        name = a_tag.text\n",
    "        row = {\n",
    "            'name': name,\n",
    "            'score': score\n",
    "        }\n",
    "        print(name, score)\n",
    "        \n",
    "\n",
    "driver.quit()"
   ]
  },
  {
   "cell_type": "code",
   "execution_count": 6,
   "id": "0df65d87",
   "metadata": {},
   "outputs": [
    {
     "data": {
      "text/plain": [
       "[<div class=\"story-area\"> <div class=\"user-prof\"> <div class=\"prof-img\"><img alt=\"프로필 사진\" src=\"https://img.megabox.co.kr/static/pc/images/mypage/bg-profile.png\" title=\"프로필 사진\"/></div> <p class=\"user-id\">iichunii7**</p> </div> <div class=\"story-box\"> <div class=\"story-wrap review\"><div class=\"tit\">관람평</div> <div class=\"story-cont\"> <div class=\"story-point\"> <span>8</span> </div> <div class=\"story-recommend\"><em>연출 외</em><em>+3</em><em style=\"display: none\">연출</em><em style=\"display: none\">스토리</em><em style=\"display: none\">영상미</em><em style=\"display: none\">배우</em> </div> <div class=\"story-txt\">간만에 긴장감 있음면서 연기까지 좋았던 영화.</div> <div class=\"story-like\"> <button class=\"oneLikeBtn\" data-cd=\"PREV\" data-is=\"N\" data-no=\"2083298\" title=\"댓글 추천\" type=\"button\"><i class=\"iconset ico-like-gray\"></i> <span>0</span></button> </div> <div class=\"story-util\"> <div class=\"post-funtion\"> <div class=\"wrap\"> <button class=\"btn-alert\" type=\"button\">옵션보기</button> <div class=\"balloon-space user\"> <div class=\"balloon-cont\"><div class=\"user\"> <p class=\"reset a-c\">스포일러 및 욕설/비방하는<br/>내용이 있습니까?</p> <button class=\"maskOne\" data-no=\"2083298\" type=\"button\">댓글 신고 <i class=\"iconset ico-arr-right-green\"></i></button></div> <div class=\"btn-close\"><a href=\"#\" title=\"닫기\"><img alt=\"닫기\" src=\"/static/pc/images/common/btn/btn-balloon-close.png\"/></a></div> </div> </div> </div> </div> </div> </div> </div> </div> </div>]"
      ]
     },
     "execution_count": 6,
     "metadata": {},
     "output_type": "execute_result"
    }
   ],
   "source": [
    "stocks"
   ]
  },
  {
   "cell_type": "code",
   "execution_count": 7,
   "id": "6418d9c5",
   "metadata": {},
   "outputs": [
    {
     "data": {
      "text/plain": [
       "bs4.element.ResultSet"
      ]
     },
     "execution_count": 7,
     "metadata": {},
     "output_type": "execute_result"
    }
   ],
   "source": [
    "type(stocks)"
   ]
  },
  {
   "cell_type": "code",
   "execution_count": 27,
   "id": "55f408a1",
   "metadata": {},
   "outputs": [],
   "source": [
    "prd_dict = {'관람평' : [],\n",
    "            '스토리' : [],\n",
    "            '한줄평' : []}\n",
    "df_fin = pd.DataFrame(prd_dict)"
   ]
  },
  {
   "cell_type": "code",
   "execution_count": 24,
   "id": "a7580161",
   "metadata": {},
   "outputs": [],
   "source": [
    "def get_page_product(url) :\n",
    "    global df_fin\n",
    "    # 요청후 bs4 객체반환\n",
    "    bs_obj = get_request_product(url)\n",
    "    # 페이지내 전체 제품정보 추출\n",
    "    boxes = bs_obj.findAll('div',{'class':'story-point'})\n",
    "    \n",
    "    # 각제품에 대한 정보추출 후 df 생성\n",
    "    for box in boxes :\n",
    "        res = pd.DataFrame(get_product_info(box),index=range(1,2))\n",
    "        df_fin = pd.concat([df_fin,res], axis=0, ignore_index=True)"
   ]
  },
  {
   "cell_type": "code",
   "execution_count": 25,
   "id": "35ea67bf",
   "metadata": {},
   "outputs": [],
   "source": [
    "def get_product_info(box) :\n",
    "    strong_tag = box.find('div',{'class':'story-txt'})\n",
    "    prd_name = strong_tag.text.split(':')[1]\n",
    "    # 가격\n",
    "    price = box.find('ul').findAll('span')[1]\n",
    "    sale_price = box.find('ul').findAll('span')[-1].text\n",
    "    return{'품목':prd_name,'가격':price, '세일가격':sale_price}"
   ]
  },
  {
   "cell_type": "code",
   "execution_count": 26,
   "id": "14215d58",
   "metadata": {},
   "outputs": [
    {
     "data": {
      "text/plain": [
       "<function __main__.get_product_info(box)>"
      ]
     },
     "execution_count": 26,
     "metadata": {},
     "output_type": "execute_result"
    }
   ],
   "source": [
    "get_product_info"
   ]
  },
  {
   "cell_type": "code",
   "execution_count": 22,
   "id": "a86b353d",
   "metadata": {},
   "outputs": [
    {
     "data": {
      "text/plain": [
       "'https://www.megabox.co.kr/movie-detail/comment?rpstMovieNo=21049700?page=2'"
      ]
     },
     "execution_count": 22,
     "metadata": {},
     "output_type": "execute_result"
    }
   ],
   "source": [
    "url"
   ]
  },
  {
   "cell_type": "code",
   "execution_count": 23,
   "id": "4f5641c9",
   "metadata": {},
   "outputs": [],
   "source": [
    "# get_page_product(url)"
   ]
  },
  {
   "cell_type": "code",
   "execution_count": 9,
   "id": "a5b1ed3d",
   "metadata": {},
   "outputs": [],
   "source": [
    "name = []\n",
    "score = []\n",
    "comment = []"
   ]
  },
  {
   "cell_type": "code",
   "execution_count": 15,
   "id": "09da8469",
   "metadata": {},
   "outputs": [],
   "source": [
    "# stocks.to_csv('./movie.csv')"
   ]
  }
 ],
 "metadata": {
  "kernelspec": {
   "display_name": "Python 3 (ipykernel)",
   "language": "python",
   "name": "python3"
  },
  "language_info": {
   "codemirror_mode": {
    "name": "ipython",
    "version": 3
   },
   "file_extension": ".py",
   "mimetype": "text/x-python",
   "name": "python",
   "nbconvert_exporter": "python",
   "pygments_lexer": "ipython3",
   "version": "3.9.13"
  }
 },
 "nbformat": 4,
 "nbformat_minor": 5
}
