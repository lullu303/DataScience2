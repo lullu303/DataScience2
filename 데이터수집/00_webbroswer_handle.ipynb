{
 "cells": [
  {
   "cell_type": "code",
   "execution_count": 1,
   "id": "c877e8b3",
   "metadata": {},
   "outputs": [],
   "source": [
    "# 브라우저 컨트롤 모듈\n",
    "import webbrowser"
   ]
  },
  {
   "cell_type": "markdown",
   "id": "ef4a91ae",
   "metadata": {},
   "source": [
    "- url : https://search.naver.com/search.naver?where=nexearch&sm=top_hty&fbm=1&ie=utf8&query=python\n",
    "- url : https: 프로토콜명(통신규칙)\n",
    "- //search.naver.com/search.naver : 서버의 주소(컴퓨터 상대폴더)   \n",
    "- ?where=nexearch&sm=top_hty&fbm=1&ie=utf8&query=python 클라이언트가 서버에게 전달하는 data\n",
    "- 규칙에 맞는 url을 서버에게 보내면(요청) 서버는 요청을 처리한 후 응답 "
   ]
  },
  {
   "cell_type": "code",
   "execution_count": 2,
   "id": "793fad82",
   "metadata": {},
   "outputs": [
    {
     "data": {
      "text/plain": [
       "True"
      ]
     },
     "execution_count": 2,
     "metadata": {},
     "output_type": "execute_result"
    }
   ],
   "source": [
    "url = 'http://www.naver.com'\n",
    "webbrowser.open(url)"
   ]
  },
  {
   "cell_type": "code",
   "execution_count": 4,
   "id": "0278a5ee",
   "metadata": {},
   "outputs": [
    {
     "data": {
      "text/plain": [
       "True"
      ]
     },
     "execution_count": 4,
     "metadata": {},
     "output_type": "execute_result"
    }
   ],
   "source": [
    "url = 'https://search.naver.com/search.naver?'\n",
    "search = 'query=django'\n",
    "# https://search.naver.com/search.naverquery=django\n",
    "# https://search.naver.com/search.naver?query=django\n",
    "url = url+search\n",
    "webbrowser.open(url)"
   ]
  },
  {
   "cell_type": "markdown",
   "id": "076d5b90",
   "metadata": {},
   "source": [
    "### 단, 검색어를 적용시키는 방법은 site마다 다르다\n",
    "- https://www.google.com/search?q=django&oq=django&aqs=chrome..69i57j0i433i512j0i131i433i512j0i512l7.1879j0j15&sourceid=chrome&ie=UTF-8"
   ]
  },
  {
   "cell_type": "code",
   "execution_count": 5,
   "id": "2f689bc6",
   "metadata": {},
   "outputs": [],
   "source": [
    "g_url = \"https://www.google.com/search?\"\n",
    "search = 'q=django'\n",
    "url = g_url + search"
   ]
  },
  {
   "cell_type": "code",
   "execution_count": 6,
   "id": "cc35af01",
   "metadata": {},
   "outputs": [
    {
     "data": {
      "text/plain": [
       "True"
      ]
     },
     "execution_count": 6,
     "metadata": {},
     "output_type": "execute_result"
    }
   ],
   "source": [
    "webbrowser.open(url)"
   ]
  },
  {
   "cell_type": "code",
   "execution_count": 7,
   "id": "4a44d705",
   "metadata": {},
   "outputs": [],
   "source": [
    "urls = ['www.naver.com','www.daum.net','www.google.com']\n",
    "for url in urls :\n",
    "    webbrowser.open(url)"
   ]
  },
  {
   "cell_type": "code",
   "execution_count": null,
   "id": "ace3e46e",
   "metadata": {},
   "outputs": [],
   "source": []
  },
  {
   "cell_type": "code",
   "execution_count": null,
   "id": "875cf156",
   "metadata": {},
   "outputs": [],
   "source": []
  },
  {
   "cell_type": "code",
   "execution_count": null,
   "id": "e31b776f",
   "metadata": {},
   "outputs": [],
   "source": []
  },
  {
   "cell_type": "code",
   "execution_count": null,
   "id": "436e60a2",
   "metadata": {},
   "outputs": [],
   "source": []
  }
 ],
 "metadata": {
  "kernelspec": {
   "display_name": "Python 3 (ipykernel)",
   "language": "python",
   "name": "python3"
  },
  "language_info": {
   "codemirror_mode": {
    "name": "ipython",
    "version": 3
   },
   "file_extension": ".py",
   "mimetype": "text/x-python",
   "name": "python",
   "nbconvert_exporter": "python",
   "pygments_lexer": "ipython3",
   "version": "3.9.13"
  }
 },
 "nbformat": 4,
 "nbformat_minor": 5
}
