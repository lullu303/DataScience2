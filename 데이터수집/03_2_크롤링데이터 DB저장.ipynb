{
 "cells": [
  {
   "cell_type": "markdown",
   "id": "e0a58135",
   "metadata": {},
   "source": [
    "### DB 연결"
   ]
  },
  {
   "cell_type": "code",
   "execution_count": null,
   "id": "9bd892ab",
   "metadata": {},
   "outputs": [],
   "source": [
    "# !pip install pymysql"
   ]
  },
  {
   "cell_type": "code",
   "execution_count": 1,
   "id": "fd036940",
   "metadata": {},
   "outputs": [],
   "source": [
    "from urllib.request import urlopen\n",
    "from bs4 import BeautifulSoup\n",
    "import pandas as pd\n",
    "import numpy as np\n",
    "import pymysql\n",
    "import requests"
   ]
  },
  {
   "cell_type": "markdown",
   "id": "e1e2f0fd",
   "metadata": {},
   "source": [
    "1. DB 연결\n",
    "    - pymysql.connect(host='ip주소/도메인/local',port=3306,user='id',passwd='1234',charset='utf8')\n",
    "    - db conn 객체 반환\n",
    "2. cursor 객체 추출(sql 실행 시키는 객체)\n",
    "    - conn.cursor()\n",
    "3. sql 구문 실행\n",
    "    - cursor.execute(sql)\n",
    "4. sql 실행 결과 추출(실행된 cursor 객체가 결과를 저장하고 있음)\n",
    "    - cursor.fetch*()"
   ]
  },
  {
   "cell_type": "code",
   "execution_count": 2,
   "id": "d561111a",
   "metadata": {},
   "outputs": [],
   "source": [
    "# 1. db연결\n",
    "db = pymysql.connect(host='localhost', port=3306,\n",
    "                     user='root', passwd='1234',\n",
    "                     charset='utf8')"
   ]
  },
  {
   "cell_type": "code",
   "execution_count": 3,
   "id": "cf66489c",
   "metadata": {},
   "outputs": [],
   "source": [
    "# 2. cursor 객체 추출\n",
    "cursor = db.cursor()"
   ]
  },
  {
   "cell_type": "code",
   "execution_count": 4,
   "id": "b492f96f",
   "metadata": {},
   "outputs": [
    {
     "data": {
      "text/plain": [
       "9"
      ]
     },
     "execution_count": 4,
     "metadata": {},
     "output_type": "execute_result"
    }
   ],
   "source": [
    "# 3. sql 실행\n",
    "sql = \"show databases\"\n",
    "cursor.execute(sql)"
   ]
  },
  {
   "cell_type": "code",
   "execution_count": 5,
   "id": "3c130318",
   "metadata": {},
   "outputs": [
    {
     "data": {
      "text/plain": [
       "(('beauty_shop',),\n",
       " ('employees',),\n",
       " ('information_schema',),\n",
       " ('multi',),\n",
       " ('mysql',),\n",
       " ('performance_schema',),\n",
       " ('sqldb',),\n",
       " ('student_mgmt',),\n",
       " ('test',))"
      ]
     },
     "execution_count": 5,
     "metadata": {},
     "output_type": "execute_result"
    }
   ],
   "source": [
    "# 4. 실행 결과 확인\n",
    "result = cursor.fetchall()\n",
    "result"
   ]
  },
  {
   "cell_type": "code",
   "execution_count": 6,
   "id": "d57d906a",
   "metadata": {},
   "outputs": [
    {
     "data": {
      "text/plain": [
       "1"
      ]
     },
     "execution_count": 6,
     "metadata": {},
     "output_type": "execute_result"
    }
   ],
   "source": [
    "### 사용 DB 생성\n",
    "sql = 'create database beauty_shop'\n",
    "cursor.execute(sql)"
   ]
  },
  {
   "cell_type": "code",
   "execution_count": 7,
   "id": "8408a63d",
   "metadata": {},
   "outputs": [
    {
     "data": {
      "text/plain": [
       "(('beauty_shop',),\n",
       " ('employees',),\n",
       " ('information_schema',),\n",
       " ('multi',),\n",
       " ('mysql',),\n",
       " ('performance_schema',),\n",
       " ('sqldb',),\n",
       " ('student_mgmt',),\n",
       " ('test',))"
      ]
     },
     "execution_count": 7,
     "metadata": {},
     "output_type": "execute_result"
    }
   ],
   "source": [
    "# 생성 확인\n",
    "sql = 'show databases'\n",
    "cursor.execute(sql)\n",
    "result = cursor.fetchall()\n",
    "result"
   ]
  },
  {
   "cell_type": "code",
   "execution_count": 8,
   "id": "5bf20130",
   "metadata": {},
   "outputs": [
    {
     "data": {
      "text/plain": [
       "0"
      ]
     },
     "execution_count": 8,
     "metadata": {},
     "output_type": "execute_result"
    }
   ],
   "source": [
    "# db 선택\n",
    "sql = 'use beauty_shop'\n",
    "cursor.execute(sql)"
   ]
  },
  {
   "cell_type": "code",
   "execution_count": 9,
   "id": "cf192379",
   "metadata": {},
   "outputs": [
    {
     "data": {
      "text/plain": [
       "1"
      ]
     },
     "execution_count": 9,
     "metadata": {},
     "output_type": "execute_result"
    }
   ],
   "source": [
    "# 현재 db 조회\n",
    "sql = 'select database()'\n",
    "cursor.execute(sql)"
   ]
  },
  {
   "cell_type": "code",
   "execution_count": 10,
   "id": "8d13d0a2",
   "metadata": {},
   "outputs": [
    {
     "data": {
      "text/plain": [
       "('beauty_shop',)"
      ]
     },
     "execution_count": 10,
     "metadata": {},
     "output_type": "execute_result"
    }
   ],
   "source": [
    "result = cursor.fetchone()\n",
    "result"
   ]
  },
  {
   "cell_type": "code",
   "execution_count": 11,
   "id": "d2396b08",
   "metadata": {},
   "outputs": [],
   "source": [
    "### table 생성 - sql 구문 작성\n",
    "sql =\"\"\"\n",
    "    create table product(\n",
    "        product_code int auto_increment not null,\n",
    "        title varchar(200) not null,\n",
    "        ori_price float,\n",
    "        discount_price float,\n",
    "        link varchar(200),\n",
    "        primary key(product_code)\n",
    "    )\n",
    "\"\"\""
   ]
  },
  {
   "cell_type": "code",
   "execution_count": 12,
   "id": "1c0f0fc7",
   "metadata": {},
   "outputs": [
    {
     "data": {
      "text/plain": [
       "0"
      ]
     },
     "execution_count": 12,
     "metadata": {},
     "output_type": "execute_result"
    }
   ],
   "source": [
    "cursor.execute(sql)"
   ]
  },
  {
   "cell_type": "code",
   "execution_count": 13,
   "id": "82cc2628",
   "metadata": {},
   "outputs": [],
   "source": [
    "db.commit() # db에 반영(complete)"
   ]
  },
  {
   "cell_type": "code",
   "execution_count": 16,
   "id": "4105f31a",
   "metadata": {},
   "outputs": [
    {
     "data": {
      "text/plain": [
       "(('product',),)"
      ]
     },
     "execution_count": 16,
     "metadata": {},
     "output_type": "execute_result"
    }
   ],
   "source": [
    "# 생성 테이블 확인\n",
    "sql = \"show tables\"\n",
    "cursor.execute(sql)\n",
    "cursor.fetchall()"
   ]
  },
  {
   "cell_type": "code",
   "execution_count": 17,
   "id": "398e3387",
   "metadata": {},
   "outputs": [
    {
     "data": {
      "text/plain": [
       "(('product_code', 'int(11)', 'NO', 'PRI', None, 'auto_increment'),\n",
       " ('title', 'varchar(200)', 'NO', '', None, ''),\n",
       " ('ori_price', 'float', 'YES', '', None, ''),\n",
       " ('discount_price', 'float', 'YES', '', None, ''),\n",
       " ('link', 'varchar(200)', 'YES', '', None, ''))"
      ]
     },
     "execution_count": 17,
     "metadata": {},
     "output_type": "execute_result"
    }
   ],
   "source": [
    "sql = \"desc product\" # 테이블 구조 확인\n",
    "cursor.execute(sql)\n",
    "cursor.fetchall()"
   ]
  },
  {
   "cell_type": "markdown",
   "id": "fa3e6062",
   "metadata": {},
   "source": [
    "### 제품 정보 추출 후 db 저장"
   ]
  },
  {
   "cell_type": "code",
   "execution_count": 18,
   "id": "01ddfbd9",
   "metadata": {},
   "outputs": [],
   "source": [
    "from urllib.request import urlopen\n",
    "from bs4 import BeautifulSoup\n",
    "import pandas as pd\n",
    "import numpy as np"
   ]
  },
  {
   "cell_type": "code",
   "execution_count": 19,
   "id": "d5d16652",
   "metadata": {},
   "outputs": [],
   "source": [
    "# 한개의 제품에 대한 정보 추출\n",
    "def get_product_info(box) :\n",
    "    strong_tag = box.find('strong',{'class':'name'})\n",
    "    prd_name = strong_tag.text.split(':')[1]\n",
    "    #가격\n",
    "    price = box.find('ul').findAll('span')[1].text\n",
    "    sale_price = box.find('ul').findAll('span')[-1].text\n",
    "    if sale_price == '' :\n",
    "        sale_price = 'USD 0.0'\n",
    "    \n",
    "    return {'품목':prd_name, '가격':price[4:], '세일가격':sale_price[4:]}"
   ]
  },
  {
   "cell_type": "code",
   "execution_count": 28,
   "id": "4e09678b",
   "metadata": {},
   "outputs": [],
   "source": [
    "# db에 저장하는 함수\n",
    "def save_data(prd_info) :\n",
    "#     print(prd_info)\n",
    "    sql = \"insert into product(title, ori_price, discount_price, link) values('\" \\\n",
    "    + prd_info['품목'] + \"',\" \\\n",
    "    + prd_info['가격'] + \",\" \\\n",
    "    + prd_info['세일가격'] + \",'\" \\\n",
    "    + 'sub_link' + \"')\"\n",
    "#     print(sql)\n",
    "    cursor.execute(sql)"
   ]
  },
  {
   "cell_type": "code",
   "execution_count": 29,
   "id": "50dd4bbc",
   "metadata": {},
   "outputs": [],
   "source": [
    "def get_page_products(url) :\n",
    "    url=url\n",
    "    html = urlopen(url)\n",
    "    htmls = html.read()\n",
    "    bs_obj = BeautifulSoup(htmls,\"html.parser\")\n",
    "    boxes = bs_obj.findAll('div',{'class':'description'})\n",
    "    for box in boxes :\n",
    "        prd = get_product_info(box)\n",
    "        save_data(prd)"
   ]
  },
  {
   "cell_type": "code",
   "execution_count": 30,
   "id": "b11baef4",
   "metadata": {},
   "outputs": [],
   "source": [
    "url = \"http://jolse.com/category/toners-mists/1019/?page=1\"\n",
    "get_page_products(url)"
   ]
  },
  {
   "cell_type": "code",
   "execution_count": 31,
   "id": "c63be0a1",
   "metadata": {},
   "outputs": [],
   "source": [
    "db.commit()"
   ]
  },
  {
   "cell_type": "code",
   "execution_count": 32,
   "id": "4a628944",
   "metadata": {},
   "outputs": [
    {
     "data": {
      "text/plain": [
       "((1,\n",
       "  ' [TIME DEAL] Haruharu WONDER Black Rice Hyaluronic Toner 300ml',\n",
       "  37.0,\n",
       "  16.59,\n",
       "  'sub_link'),\n",
       " (2,\n",
       "  ' SOME BY MI Propolis B5 Glow Barrier Calming Toner 150ml',\n",
       "  22.0,\n",
       "  18.7,\n",
       "  'sub_link'),\n",
       " (3,\n",
       "  ' Haruharu WONDER Black Rice Hyaluronic Toner 300ml',\n",
       "  37.0,\n",
       "  31.45,\n",
       "  'sub_link'),\n",
       " (4, ' Cos De BAHA Centella Facial Toner 200ml', 16.45, 13.98, 'sub_link'),\n",
       " (5, ' Isntree Hyaluronic Acid Toner 200ml (Renewal)', 19.3, 16.4, 'sub_link'),\n",
       " (6,\n",
       "  ' SOME BY MI AHA BHA PHA 30 Days Miracle Toner 150ml',\n",
       "  24.0,\n",
       "  20.4,\n",
       "  'sub_link'),\n",
       " (7,\n",
       "  ' SOME BY MI Galactomyces Pure Vitamin C Glow Toner 200ml',\n",
       "  34.0,\n",
       "  28.9,\n",
       "  'sub_link'),\n",
       " (8, ' ROUND LAB 1025 Dokdo Toner 200ml', 17.0, 14.45, 'sub_link'),\n",
       " (9,\n",
       "  ' SOME BY MI Snail Truecica Miracle Repair Toner 135ml',\n",
       "  24.0,\n",
       "  20.4,\n",
       "  'sub_link'),\n",
       " (10, ' COSRX AHA 7 WHITEHEAD POWER LIQUID 100ml', 17.81, 15.14, 'sub_link'),\n",
       " (11,\n",
       "  ' BLITHE Vital Treatment 8 Nourishing Beans 150ml',\n",
       "  42.9,\n",
       "  36.46,\n",
       "  'sub_link'),\n",
       " (12, ' COSRX Two In One Poreless Power Liquid 100ml', 22.0, 18.7, 'sub_link'),\n",
       " (13, ' Pyunkang Yul Essence Toner 200ml', 21.9, 15.33, 'sub_link'),\n",
       " (14,\n",
       "  ' Elizavecca Hell-Pore Clean up AHA Fruit Toner 200ml',\n",
       "  14.0,\n",
       "  11.9,\n",
       "  'sub_link'),\n",
       " (15, ' COSRX BHA BLACKHEAD POWER LIQUID 100 ML', 20.81, 17.69, 'sub_link'),\n",
       " (16, ' TIAM Vita B5 Toner 180ml', 18.6, 15.81, 'sub_link'),\n",
       " (17, ' BADSKIN Hyaluronic Spa Toner 500ml', 26.0, 22.1, 'sub_link'),\n",
       " (18, ' TIAM AC Fighting AHA BHA PHA Toner 180ml', 18.7, 15.89, 'sub_link'),\n",
       " (19,\n",
       "  ' iUNIK Vitamin Hyaluronic Acid Vitalizing Toner 200ml',\n",
       "  21.99,\n",
       "  18.69,\n",
       "  'sub_link'),\n",
       " (20,\n",
       "  ' COSRX AC Collection Calming Liquid Mild 125ml',\n",
       "  26.0,\n",
       "  22.1,\n",
       "  'sub_link'),\n",
       " (21, ' NACIFIC Real Calendula Floral Toner 180ml', 26.0, 22.1, 'sub_link'),\n",
       " (22, ' CARYOPHY Portulaca Toner 300ml', 24.0, 20.4, 'sub_link'),\n",
       " (23, ' NEOGEN DERMALOGY Real Cica Pad 90ea', 17.9, 15.21, 'sub_link'),\n",
       " (24, ' BLITHE Vital Treatment 5 Energy Roots 150ml', 37.6, 31.96, 'sub_link'))"
      ]
     },
     "execution_count": 32,
     "metadata": {},
     "output_type": "execute_result"
    }
   ],
   "source": [
    "sql = \"select * from product\"\n",
    "cursor.execute(sql)\n",
    "result = cursor.fetchall()\n",
    "result"
   ]
  },
  {
   "cell_type": "code",
   "execution_count": 33,
   "id": "2af37429",
   "metadata": {},
   "outputs": [],
   "source": [
    "db.close() # db 연결 종료"
   ]
  },
  {
   "cell_type": "markdown",
   "id": "6bd56775",
   "metadata": {},
   "source": [
    "- pandas 함수 이용해서 sql 쿼리 실행"
   ]
  },
  {
   "cell_type": "code",
   "execution_count": 34,
   "id": "1bf0d8e5",
   "metadata": {},
   "outputs": [],
   "source": [
    "db = pymysql.connect(host='localhost', port=3306, user='root', passwd='1234',db='beauty_shop',  \n",
    "                     charset='utf8')\n",
    "cursor = db.cursor()"
   ]
  },
  {
   "cell_type": "code",
   "execution_count": 35,
   "id": "62b92d57",
   "metadata": {},
   "outputs": [
    {
     "name": "stderr",
     "output_type": "stream",
     "text": [
      "C:\\ProgramData\\Anaconda3\\lib\\site-packages\\pandas\\io\\sql.py:761: UserWarning: pandas only support SQLAlchemy connectable(engine/connection) ordatabase string URI or sqlite3 DBAPI2 connectionother DBAPI2 objects are not tested, please consider using SQLAlchemy\n",
      "  warnings.warn(\n"
     ]
    }
   ],
   "source": [
    "sql = 'select * from product'\n",
    "df = pd.read_sql(sql,db)"
   ]
  },
  {
   "cell_type": "code",
   "execution_count": 36,
   "id": "0522f414",
   "metadata": {},
   "outputs": [
    {
     "data": {
      "text/html": [
       "<div>\n",
       "<style scoped>\n",
       "    .dataframe tbody tr th:only-of-type {\n",
       "        vertical-align: middle;\n",
       "    }\n",
       "\n",
       "    .dataframe tbody tr th {\n",
       "        vertical-align: top;\n",
       "    }\n",
       "\n",
       "    .dataframe thead th {\n",
       "        text-align: right;\n",
       "    }\n",
       "</style>\n",
       "<table border=\"1\" class=\"dataframe\">\n",
       "  <thead>\n",
       "    <tr style=\"text-align: right;\">\n",
       "      <th></th>\n",
       "      <th>product_code</th>\n",
       "      <th>title</th>\n",
       "      <th>ori_price</th>\n",
       "      <th>discount_price</th>\n",
       "      <th>link</th>\n",
       "    </tr>\n",
       "  </thead>\n",
       "  <tbody>\n",
       "    <tr>\n",
       "      <th>0</th>\n",
       "      <td>1</td>\n",
       "      <td>[TIME DEAL] Haruharu WONDER Black Rice Hyalur...</td>\n",
       "      <td>37.00</td>\n",
       "      <td>16.59</td>\n",
       "      <td>sub_link</td>\n",
       "    </tr>\n",
       "    <tr>\n",
       "      <th>1</th>\n",
       "      <td>2</td>\n",
       "      <td>SOME BY MI Propolis B5 Glow Barrier Calming T...</td>\n",
       "      <td>22.00</td>\n",
       "      <td>18.70</td>\n",
       "      <td>sub_link</td>\n",
       "    </tr>\n",
       "    <tr>\n",
       "      <th>2</th>\n",
       "      <td>3</td>\n",
       "      <td>Haruharu WONDER Black Rice Hyaluronic Toner 3...</td>\n",
       "      <td>37.00</td>\n",
       "      <td>31.45</td>\n",
       "      <td>sub_link</td>\n",
       "    </tr>\n",
       "    <tr>\n",
       "      <th>3</th>\n",
       "      <td>4</td>\n",
       "      <td>Cos De BAHA Centella Facial Toner 200ml</td>\n",
       "      <td>16.45</td>\n",
       "      <td>13.98</td>\n",
       "      <td>sub_link</td>\n",
       "    </tr>\n",
       "    <tr>\n",
       "      <th>4</th>\n",
       "      <td>5</td>\n",
       "      <td>Isntree Hyaluronic Acid Toner 200ml (Renewal)</td>\n",
       "      <td>19.30</td>\n",
       "      <td>16.40</td>\n",
       "      <td>sub_link</td>\n",
       "    </tr>\n",
       "    <tr>\n",
       "      <th>5</th>\n",
       "      <td>6</td>\n",
       "      <td>SOME BY MI AHA BHA PHA 30 Days Miracle Toner ...</td>\n",
       "      <td>24.00</td>\n",
       "      <td>20.40</td>\n",
       "      <td>sub_link</td>\n",
       "    </tr>\n",
       "    <tr>\n",
       "      <th>6</th>\n",
       "      <td>7</td>\n",
       "      <td>SOME BY MI Galactomyces Pure Vitamin C Glow T...</td>\n",
       "      <td>34.00</td>\n",
       "      <td>28.90</td>\n",
       "      <td>sub_link</td>\n",
       "    </tr>\n",
       "    <tr>\n",
       "      <th>7</th>\n",
       "      <td>8</td>\n",
       "      <td>ROUND LAB 1025 Dokdo Toner 200ml</td>\n",
       "      <td>17.00</td>\n",
       "      <td>14.45</td>\n",
       "      <td>sub_link</td>\n",
       "    </tr>\n",
       "    <tr>\n",
       "      <th>8</th>\n",
       "      <td>9</td>\n",
       "      <td>SOME BY MI Snail Truecica Miracle Repair Tone...</td>\n",
       "      <td>24.00</td>\n",
       "      <td>20.40</td>\n",
       "      <td>sub_link</td>\n",
       "    </tr>\n",
       "    <tr>\n",
       "      <th>9</th>\n",
       "      <td>10</td>\n",
       "      <td>COSRX AHA 7 WHITEHEAD POWER LIQUID 100ml</td>\n",
       "      <td>17.81</td>\n",
       "      <td>15.14</td>\n",
       "      <td>sub_link</td>\n",
       "    </tr>\n",
       "    <tr>\n",
       "      <th>10</th>\n",
       "      <td>11</td>\n",
       "      <td>BLITHE Vital Treatment 8 Nourishing Beans 150ml</td>\n",
       "      <td>42.90</td>\n",
       "      <td>36.46</td>\n",
       "      <td>sub_link</td>\n",
       "    </tr>\n",
       "    <tr>\n",
       "      <th>11</th>\n",
       "      <td>12</td>\n",
       "      <td>COSRX Two In One Poreless Power Liquid 100ml</td>\n",
       "      <td>22.00</td>\n",
       "      <td>18.70</td>\n",
       "      <td>sub_link</td>\n",
       "    </tr>\n",
       "    <tr>\n",
       "      <th>12</th>\n",
       "      <td>13</td>\n",
       "      <td>Pyunkang Yul Essence Toner 200ml</td>\n",
       "      <td>21.90</td>\n",
       "      <td>15.33</td>\n",
       "      <td>sub_link</td>\n",
       "    </tr>\n",
       "    <tr>\n",
       "      <th>13</th>\n",
       "      <td>14</td>\n",
       "      <td>Elizavecca Hell-Pore Clean up AHA Fruit Toner...</td>\n",
       "      <td>14.00</td>\n",
       "      <td>11.90</td>\n",
       "      <td>sub_link</td>\n",
       "    </tr>\n",
       "    <tr>\n",
       "      <th>14</th>\n",
       "      <td>15</td>\n",
       "      <td>COSRX BHA BLACKHEAD POWER LIQUID 100 ML</td>\n",
       "      <td>20.81</td>\n",
       "      <td>17.69</td>\n",
       "      <td>sub_link</td>\n",
       "    </tr>\n",
       "    <tr>\n",
       "      <th>15</th>\n",
       "      <td>16</td>\n",
       "      <td>TIAM Vita B5 Toner 180ml</td>\n",
       "      <td>18.60</td>\n",
       "      <td>15.81</td>\n",
       "      <td>sub_link</td>\n",
       "    </tr>\n",
       "    <tr>\n",
       "      <th>16</th>\n",
       "      <td>17</td>\n",
       "      <td>BADSKIN Hyaluronic Spa Toner 500ml</td>\n",
       "      <td>26.00</td>\n",
       "      <td>22.10</td>\n",
       "      <td>sub_link</td>\n",
       "    </tr>\n",
       "    <tr>\n",
       "      <th>17</th>\n",
       "      <td>18</td>\n",
       "      <td>TIAM AC Fighting AHA BHA PHA Toner 180ml</td>\n",
       "      <td>18.70</td>\n",
       "      <td>15.89</td>\n",
       "      <td>sub_link</td>\n",
       "    </tr>\n",
       "    <tr>\n",
       "      <th>18</th>\n",
       "      <td>19</td>\n",
       "      <td>iUNIK Vitamin Hyaluronic Acid Vitalizing Tone...</td>\n",
       "      <td>21.99</td>\n",
       "      <td>18.69</td>\n",
       "      <td>sub_link</td>\n",
       "    </tr>\n",
       "    <tr>\n",
       "      <th>19</th>\n",
       "      <td>20</td>\n",
       "      <td>COSRX AC Collection Calming Liquid Mild 125ml</td>\n",
       "      <td>26.00</td>\n",
       "      <td>22.10</td>\n",
       "      <td>sub_link</td>\n",
       "    </tr>\n",
       "    <tr>\n",
       "      <th>20</th>\n",
       "      <td>21</td>\n",
       "      <td>NACIFIC Real Calendula Floral Toner 180ml</td>\n",
       "      <td>26.00</td>\n",
       "      <td>22.10</td>\n",
       "      <td>sub_link</td>\n",
       "    </tr>\n",
       "    <tr>\n",
       "      <th>21</th>\n",
       "      <td>22</td>\n",
       "      <td>CARYOPHY Portulaca Toner 300ml</td>\n",
       "      <td>24.00</td>\n",
       "      <td>20.40</td>\n",
       "      <td>sub_link</td>\n",
       "    </tr>\n",
       "    <tr>\n",
       "      <th>22</th>\n",
       "      <td>23</td>\n",
       "      <td>NEOGEN DERMALOGY Real Cica Pad 90ea</td>\n",
       "      <td>17.90</td>\n",
       "      <td>15.21</td>\n",
       "      <td>sub_link</td>\n",
       "    </tr>\n",
       "    <tr>\n",
       "      <th>23</th>\n",
       "      <td>24</td>\n",
       "      <td>BLITHE Vital Treatment 5 Energy Roots 150ml</td>\n",
       "      <td>37.60</td>\n",
       "      <td>31.96</td>\n",
       "      <td>sub_link</td>\n",
       "    </tr>\n",
       "  </tbody>\n",
       "</table>\n",
       "</div>"
      ],
      "text/plain": [
       "    product_code                                              title  \\\n",
       "0              1   [TIME DEAL] Haruharu WONDER Black Rice Hyalur...   \n",
       "1              2   SOME BY MI Propolis B5 Glow Barrier Calming T...   \n",
       "2              3   Haruharu WONDER Black Rice Hyaluronic Toner 3...   \n",
       "3              4            Cos De BAHA Centella Facial Toner 200ml   \n",
       "4              5      Isntree Hyaluronic Acid Toner 200ml (Renewal)   \n",
       "5              6   SOME BY MI AHA BHA PHA 30 Days Miracle Toner ...   \n",
       "6              7   SOME BY MI Galactomyces Pure Vitamin C Glow T...   \n",
       "7              8                   ROUND LAB 1025 Dokdo Toner 200ml   \n",
       "8              9   SOME BY MI Snail Truecica Miracle Repair Tone...   \n",
       "9             10           COSRX AHA 7 WHITEHEAD POWER LIQUID 100ml   \n",
       "10            11    BLITHE Vital Treatment 8 Nourishing Beans 150ml   \n",
       "11            12       COSRX Two In One Poreless Power Liquid 100ml   \n",
       "12            13                   Pyunkang Yul Essence Toner 200ml   \n",
       "13            14   Elizavecca Hell-Pore Clean up AHA Fruit Toner...   \n",
       "14            15            COSRX BHA BLACKHEAD POWER LIQUID 100 ML   \n",
       "15            16                           TIAM Vita B5 Toner 180ml   \n",
       "16            17                 BADSKIN Hyaluronic Spa Toner 500ml   \n",
       "17            18           TIAM AC Fighting AHA BHA PHA Toner 180ml   \n",
       "18            19   iUNIK Vitamin Hyaluronic Acid Vitalizing Tone...   \n",
       "19            20      COSRX AC Collection Calming Liquid Mild 125ml   \n",
       "20            21          NACIFIC Real Calendula Floral Toner 180ml   \n",
       "21            22                     CARYOPHY Portulaca Toner 300ml   \n",
       "22            23                NEOGEN DERMALOGY Real Cica Pad 90ea   \n",
       "23            24        BLITHE Vital Treatment 5 Energy Roots 150ml   \n",
       "\n",
       "    ori_price  discount_price      link  \n",
       "0       37.00           16.59  sub_link  \n",
       "1       22.00           18.70  sub_link  \n",
       "2       37.00           31.45  sub_link  \n",
       "3       16.45           13.98  sub_link  \n",
       "4       19.30           16.40  sub_link  \n",
       "5       24.00           20.40  sub_link  \n",
       "6       34.00           28.90  sub_link  \n",
       "7       17.00           14.45  sub_link  \n",
       "8       24.00           20.40  sub_link  \n",
       "9       17.81           15.14  sub_link  \n",
       "10      42.90           36.46  sub_link  \n",
       "11      22.00           18.70  sub_link  \n",
       "12      21.90           15.33  sub_link  \n",
       "13      14.00           11.90  sub_link  \n",
       "14      20.81           17.69  sub_link  \n",
       "15      18.60           15.81  sub_link  \n",
       "16      26.00           22.10  sub_link  \n",
       "17      18.70           15.89  sub_link  \n",
       "18      21.99           18.69  sub_link  \n",
       "19      26.00           22.10  sub_link  \n",
       "20      26.00           22.10  sub_link  \n",
       "21      24.00           20.40  sub_link  \n",
       "22      17.90           15.21  sub_link  \n",
       "23      37.60           31.96  sub_link  "
      ]
     },
     "execution_count": 36,
     "metadata": {},
     "output_type": "execute_result"
    }
   ],
   "source": [
    "df"
   ]
  },
  {
   "cell_type": "code",
   "execution_count": 37,
   "id": "7b8b813b",
   "metadata": {},
   "outputs": [],
   "source": [
    "db.close()"
   ]
  }
 ],
 "metadata": {
  "kernelspec": {
   "display_name": "Python 3 (ipykernel)",
   "language": "python",
   "name": "python3"
  },
  "language_info": {
   "codemirror_mode": {
    "name": "ipython",
    "version": 3
   },
   "file_extension": ".py",
   "mimetype": "text/x-python",
   "name": "python",
   "nbconvert_exporter": "python",
   "pygments_lexer": "ipython3",
   "version": "3.9.12"
  }
 },
 "nbformat": 4,
 "nbformat_minor": 5
}
