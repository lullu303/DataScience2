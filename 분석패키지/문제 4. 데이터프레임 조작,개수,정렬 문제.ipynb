{
 "cells": [
  {
   "cell_type": "code",
   "execution_count": 1,
   "id": "ff03d825",
   "metadata": {},
   "outputs": [],
   "source": [
    "# 패키지 임포트\n",
    "import numpy as np\n",
    "import pandas as pd"
   ]
  },
  {
   "cell_type": "code",
   "execution_count": 2,
   "id": "77db5a3e",
   "metadata": {},
   "outputs": [],
   "source": [
    "import warnings\n",
    "# 경고메세지 끄기\n",
    "warnings.filterwarnings(action='ignore')"
   ]
  },
  {
   "cell_type": "code",
   "execution_count": 3,
   "id": "49ff0c9c",
   "metadata": {},
   "outputs": [
    {
     "data": {
      "text/html": [
       "<div>\n",
       "<style scoped>\n",
       "    .dataframe tbody tr th:only-of-type {\n",
       "        vertical-align: middle;\n",
       "    }\n",
       "\n",
       "    .dataframe tbody tr th {\n",
       "        vertical-align: top;\n",
       "    }\n",
       "\n",
       "    .dataframe thead th {\n",
       "        text-align: right;\n",
       "    }\n",
       "</style>\n",
       "<table border=\"1\" class=\"dataframe\">\n",
       "  <thead>\n",
       "    <tr style=\"text-align: right;\">\n",
       "      <th></th>\n",
       "      <th>survived</th>\n",
       "      <th>pclass</th>\n",
       "      <th>sex</th>\n",
       "      <th>age</th>\n",
       "      <th>sibsp</th>\n",
       "      <th>parch</th>\n",
       "      <th>fare</th>\n",
       "      <th>embarked</th>\n",
       "      <th>class</th>\n",
       "      <th>who</th>\n",
       "      <th>adult_male</th>\n",
       "      <th>deck</th>\n",
       "      <th>embark_town</th>\n",
       "      <th>alive</th>\n",
       "      <th>alone</th>\n",
       "    </tr>\n",
       "  </thead>\n",
       "  <tbody>\n",
       "    <tr>\n",
       "      <th>0</th>\n",
       "      <td>0</td>\n",
       "      <td>3</td>\n",
       "      <td>male</td>\n",
       "      <td>22.0</td>\n",
       "      <td>1</td>\n",
       "      <td>0</td>\n",
       "      <td>7.2500</td>\n",
       "      <td>S</td>\n",
       "      <td>Third</td>\n",
       "      <td>man</td>\n",
       "      <td>True</td>\n",
       "      <td>NaN</td>\n",
       "      <td>Southampton</td>\n",
       "      <td>no</td>\n",
       "      <td>False</td>\n",
       "    </tr>\n",
       "    <tr>\n",
       "      <th>1</th>\n",
       "      <td>1</td>\n",
       "      <td>1</td>\n",
       "      <td>female</td>\n",
       "      <td>38.0</td>\n",
       "      <td>1</td>\n",
       "      <td>0</td>\n",
       "      <td>71.2833</td>\n",
       "      <td>C</td>\n",
       "      <td>First</td>\n",
       "      <td>woman</td>\n",
       "      <td>False</td>\n",
       "      <td>C</td>\n",
       "      <td>Cherbourg</td>\n",
       "      <td>yes</td>\n",
       "      <td>False</td>\n",
       "    </tr>\n",
       "    <tr>\n",
       "      <th>2</th>\n",
       "      <td>1</td>\n",
       "      <td>3</td>\n",
       "      <td>female</td>\n",
       "      <td>26.0</td>\n",
       "      <td>0</td>\n",
       "      <td>0</td>\n",
       "      <td>7.9250</td>\n",
       "      <td>S</td>\n",
       "      <td>Third</td>\n",
       "      <td>woman</td>\n",
       "      <td>False</td>\n",
       "      <td>NaN</td>\n",
       "      <td>Southampton</td>\n",
       "      <td>yes</td>\n",
       "      <td>True</td>\n",
       "    </tr>\n",
       "  </tbody>\n",
       "</table>\n",
       "</div>"
      ],
      "text/plain": [
       "   survived  pclass     sex   age  sibsp  parch     fare embarked  class  \\\n",
       "0         0       3    male  22.0      1      0   7.2500        S  Third   \n",
       "1         1       1  female  38.0      1      0  71.2833        C  First   \n",
       "2         1       3  female  26.0      0      0   7.9250        S  Third   \n",
       "\n",
       "     who  adult_male deck  embark_town alive  alone  \n",
       "0    man        True  NaN  Southampton    no  False  \n",
       "1  woman       False    C    Cherbourg   yes  False  \n",
       "2  woman       False  NaN  Southampton   yes   True  "
      ]
     },
     "execution_count": 3,
     "metadata": {},
     "output_type": "execute_result"
    }
   ],
   "source": [
    "# seaborn 패키지의 titanic 데이터셋을 load 하시오\n",
    "import seaborn as sns\n",
    "titanic = sns.load_dataset(\"titanic\")\n",
    "titanic.head(3)"
   ]
  },
  {
   "cell_type": "code",
   "execution_count": 37,
   "id": "7e285277",
   "metadata": {},
   "outputs": [
    {
     "data": {
      "text/plain": [
       "survived       891\n",
       "pclass         891\n",
       "sex            891\n",
       "age            714\n",
       "sibsp          891\n",
       "parch          891\n",
       "fare           891\n",
       "embarked       889\n",
       "class          891\n",
       "who            891\n",
       "adult_male     891\n",
       "deck           203\n",
       "embark_town    889\n",
       "alive          891\n",
       "alone          891\n",
       "dtype: int64"
      ]
     },
     "execution_count": 37,
     "metadata": {},
     "output_type": "execute_result"
    }
   ],
   "source": [
    "titanic.count()"
   ]
  },
  {
   "cell_type": "markdown",
   "id": "8b5a9210",
   "metadata": {},
   "source": [
    "#### 연습문제 1\n",
    "- 타이타닉 호 승객에 대해서, 성별(sex) 인원수, 나이별(age) 인원수, 선실별(class) 인원수, 사망/생존(alive)인원수를 구하시오.\n",
    "\n",
    "- 성별 인원수는 인덱스 기준으로 정렬하고\n",
    "- 나이별 인원수는 값 기준 정렬\n",
    "- 그 나머지는 임의 기준 정렬 하시오."
   ]
  },
  {
   "cell_type": "code",
   "execution_count": 6,
   "id": "7d181fb0",
   "metadata": {},
   "outputs": [
    {
     "data": {
      "text/plain": [
       "female    314\n",
       "male      577\n",
       "Name: sex, dtype: int64"
      ]
     },
     "execution_count": 6,
     "metadata": {},
     "output_type": "execute_result"
    }
   ],
   "source": [
    "# value_counts() : 범주형 데이터의 그룹별 개수 반환\n",
    "# 성별 인원수는 인덱스 기준으로 정렬하고 : sort_index()\n",
    "titanic['sex'].value_counts().sort_index()"
   ]
  },
  {
   "cell_type": "code",
   "execution_count": 9,
   "id": "53c1f4fe",
   "metadata": {},
   "outputs": [
    {
     "data": {
      "text/plain": [
       "74.00     1\n",
       "34.50     1\n",
       "0.42      1\n",
       "0.67      1\n",
       "66.00     1\n",
       "         ..\n",
       "28.00    25\n",
       "19.00    25\n",
       "18.00    26\n",
       "22.00    27\n",
       "24.00    30\n",
       "Name: age, Length: 88, dtype: int64"
      ]
     },
     "execution_count": 9,
     "metadata": {},
     "output_type": "execute_result"
    }
   ],
   "source": [
    "# 나이별 인원수 값 기준 정렬\n",
    "titanic['age'].value_counts().sort_values()"
   ]
  },
  {
   "cell_type": "code",
   "execution_count": 15,
   "id": "e8ec2379",
   "metadata": {},
   "outputs": [
    {
     "data": {
      "text/plain": [
       "Third     491\n",
       "Second    184\n",
       "First     216\n",
       "Name: class, dtype: int64"
      ]
     },
     "execution_count": 15,
     "metadata": {},
     "output_type": "execute_result"
    }
   ],
   "source": [
    "titanic['class'].value_counts().sort_index(ascending=False) # 인덱스 내림차순 정렬 \n",
    "# titanic.class.value_counts().sort_index(ascending=False)\n",
    "# class 라는 컬럼명은 예약어이므로 []는 사용 가능, . 연산자 접근은 불가능."
   ]
  },
  {
   "cell_type": "code",
   "execution_count": 13,
   "id": "f85f7732",
   "metadata": {},
   "outputs": [
    {
     "data": {
      "text/plain": [
       "yes    342\n",
       "no     549\n",
       "Name: alive, dtype: int64"
      ]
     },
     "execution_count": 13,
     "metadata": {},
     "output_type": "execute_result"
    }
   ],
   "source": [
    "# 사망생존 인원수\n",
    "titanic.alive.value_counts().sort_values()"
   ]
  },
  {
   "cell_type": "code",
   "execution_count": 16,
   "id": "3d02c924",
   "metadata": {},
   "outputs": [
    {
     "data": {
      "text/plain": [
       "male      577\n",
       "female    314\n",
       "Name: sex, dtype: int64"
      ]
     },
     "execution_count": 16,
     "metadata": {},
     "output_type": "execute_result"
    }
   ],
   "source": [
    "cols = 'sex','age','class','alive'\n",
    "v_count = {}\n",
    "\n",
    "for col in cols :\n",
    "    v_count[col] = titanic[col].value_counts()\n",
    "\n",
    "v_count['sex']"
   ]
  },
  {
   "cell_type": "markdown",
   "id": "d406a49f",
   "metadata": {},
   "source": [
    "#### 연습문제 2\n",
    "- 성별에 따른 생존자수와 사망자수의 정보를 갖고 있는 데이터프레임 titanic_y_n 를 생성하시오\n",
    "    - 0은 생존 1은 사망"
   ]
  },
  {
   "cell_type": "code",
   "execution_count": 18,
   "id": "afe3efe6",
   "metadata": {},
   "outputs": [],
   "source": [
    "# 사망자/생존자 데이터 분리\n",
    "no = titanic[titanic.alive == 'no']\n",
    "yes = titanic[titanic.alive == 'yes']"
   ]
  },
  {
   "cell_type": "code",
   "execution_count": 20,
   "id": "d17ff165",
   "metadata": {},
   "outputs": [
    {
     "data": {
      "text/html": [
       "<div>\n",
       "<style scoped>\n",
       "    .dataframe tbody tr th:only-of-type {\n",
       "        vertical-align: middle;\n",
       "    }\n",
       "\n",
       "    .dataframe tbody tr th {\n",
       "        vertical-align: top;\n",
       "    }\n",
       "\n",
       "    .dataframe thead th {\n",
       "        text-align: right;\n",
       "    }\n",
       "</style>\n",
       "<table border=\"1\" class=\"dataframe\">\n",
       "  <thead>\n",
       "    <tr style=\"text-align: right;\">\n",
       "      <th></th>\n",
       "      <th>survived</th>\n",
       "      <th>pclass</th>\n",
       "      <th>sex</th>\n",
       "      <th>age</th>\n",
       "      <th>sibsp</th>\n",
       "      <th>parch</th>\n",
       "      <th>fare</th>\n",
       "      <th>embarked</th>\n",
       "      <th>class</th>\n",
       "      <th>who</th>\n",
       "      <th>adult_male</th>\n",
       "      <th>deck</th>\n",
       "      <th>embark_town</th>\n",
       "      <th>alive</th>\n",
       "      <th>alone</th>\n",
       "    </tr>\n",
       "  </thead>\n",
       "  <tbody>\n",
       "    <tr>\n",
       "      <th>1</th>\n",
       "      <td>1</td>\n",
       "      <td>1</td>\n",
       "      <td>female</td>\n",
       "      <td>38.0</td>\n",
       "      <td>1</td>\n",
       "      <td>0</td>\n",
       "      <td>71.2833</td>\n",
       "      <td>C</td>\n",
       "      <td>First</td>\n",
       "      <td>woman</td>\n",
       "      <td>False</td>\n",
       "      <td>C</td>\n",
       "      <td>Cherbourg</td>\n",
       "      <td>yes</td>\n",
       "      <td>False</td>\n",
       "    </tr>\n",
       "    <tr>\n",
       "      <th>2</th>\n",
       "      <td>1</td>\n",
       "      <td>3</td>\n",
       "      <td>female</td>\n",
       "      <td>26.0</td>\n",
       "      <td>0</td>\n",
       "      <td>0</td>\n",
       "      <td>7.9250</td>\n",
       "      <td>S</td>\n",
       "      <td>Third</td>\n",
       "      <td>woman</td>\n",
       "      <td>False</td>\n",
       "      <td>NaN</td>\n",
       "      <td>Southampton</td>\n",
       "      <td>yes</td>\n",
       "      <td>True</td>\n",
       "    </tr>\n",
       "    <tr>\n",
       "      <th>3</th>\n",
       "      <td>1</td>\n",
       "      <td>1</td>\n",
       "      <td>female</td>\n",
       "      <td>35.0</td>\n",
       "      <td>1</td>\n",
       "      <td>0</td>\n",
       "      <td>53.1000</td>\n",
       "      <td>S</td>\n",
       "      <td>First</td>\n",
       "      <td>woman</td>\n",
       "      <td>False</td>\n",
       "      <td>C</td>\n",
       "      <td>Southampton</td>\n",
       "      <td>yes</td>\n",
       "      <td>False</td>\n",
       "    </tr>\n",
       "    <tr>\n",
       "      <th>8</th>\n",
       "      <td>1</td>\n",
       "      <td>3</td>\n",
       "      <td>female</td>\n",
       "      <td>27.0</td>\n",
       "      <td>0</td>\n",
       "      <td>2</td>\n",
       "      <td>11.1333</td>\n",
       "      <td>S</td>\n",
       "      <td>Third</td>\n",
       "      <td>woman</td>\n",
       "      <td>False</td>\n",
       "      <td>NaN</td>\n",
       "      <td>Southampton</td>\n",
       "      <td>yes</td>\n",
       "      <td>False</td>\n",
       "    </tr>\n",
       "    <tr>\n",
       "      <th>9</th>\n",
       "      <td>1</td>\n",
       "      <td>2</td>\n",
       "      <td>female</td>\n",
       "      <td>14.0</td>\n",
       "      <td>1</td>\n",
       "      <td>0</td>\n",
       "      <td>30.0708</td>\n",
       "      <td>C</td>\n",
       "      <td>Second</td>\n",
       "      <td>child</td>\n",
       "      <td>False</td>\n",
       "      <td>NaN</td>\n",
       "      <td>Cherbourg</td>\n",
       "      <td>yes</td>\n",
       "      <td>False</td>\n",
       "    </tr>\n",
       "    <tr>\n",
       "      <th>...</th>\n",
       "      <td>...</td>\n",
       "      <td>...</td>\n",
       "      <td>...</td>\n",
       "      <td>...</td>\n",
       "      <td>...</td>\n",
       "      <td>...</td>\n",
       "      <td>...</td>\n",
       "      <td>...</td>\n",
       "      <td>...</td>\n",
       "      <td>...</td>\n",
       "      <td>...</td>\n",
       "      <td>...</td>\n",
       "      <td>...</td>\n",
       "      <td>...</td>\n",
       "      <td>...</td>\n",
       "    </tr>\n",
       "    <tr>\n",
       "      <th>875</th>\n",
       "      <td>1</td>\n",
       "      <td>3</td>\n",
       "      <td>female</td>\n",
       "      <td>15.0</td>\n",
       "      <td>0</td>\n",
       "      <td>0</td>\n",
       "      <td>7.2250</td>\n",
       "      <td>C</td>\n",
       "      <td>Third</td>\n",
       "      <td>child</td>\n",
       "      <td>False</td>\n",
       "      <td>NaN</td>\n",
       "      <td>Cherbourg</td>\n",
       "      <td>yes</td>\n",
       "      <td>True</td>\n",
       "    </tr>\n",
       "    <tr>\n",
       "      <th>879</th>\n",
       "      <td>1</td>\n",
       "      <td>1</td>\n",
       "      <td>female</td>\n",
       "      <td>56.0</td>\n",
       "      <td>0</td>\n",
       "      <td>1</td>\n",
       "      <td>83.1583</td>\n",
       "      <td>C</td>\n",
       "      <td>First</td>\n",
       "      <td>woman</td>\n",
       "      <td>False</td>\n",
       "      <td>C</td>\n",
       "      <td>Cherbourg</td>\n",
       "      <td>yes</td>\n",
       "      <td>False</td>\n",
       "    </tr>\n",
       "    <tr>\n",
       "      <th>880</th>\n",
       "      <td>1</td>\n",
       "      <td>2</td>\n",
       "      <td>female</td>\n",
       "      <td>25.0</td>\n",
       "      <td>0</td>\n",
       "      <td>1</td>\n",
       "      <td>26.0000</td>\n",
       "      <td>S</td>\n",
       "      <td>Second</td>\n",
       "      <td>woman</td>\n",
       "      <td>False</td>\n",
       "      <td>NaN</td>\n",
       "      <td>Southampton</td>\n",
       "      <td>yes</td>\n",
       "      <td>False</td>\n",
       "    </tr>\n",
       "    <tr>\n",
       "      <th>887</th>\n",
       "      <td>1</td>\n",
       "      <td>1</td>\n",
       "      <td>female</td>\n",
       "      <td>19.0</td>\n",
       "      <td>0</td>\n",
       "      <td>0</td>\n",
       "      <td>30.0000</td>\n",
       "      <td>S</td>\n",
       "      <td>First</td>\n",
       "      <td>woman</td>\n",
       "      <td>False</td>\n",
       "      <td>B</td>\n",
       "      <td>Southampton</td>\n",
       "      <td>yes</td>\n",
       "      <td>True</td>\n",
       "    </tr>\n",
       "    <tr>\n",
       "      <th>889</th>\n",
       "      <td>1</td>\n",
       "      <td>1</td>\n",
       "      <td>male</td>\n",
       "      <td>26.0</td>\n",
       "      <td>0</td>\n",
       "      <td>0</td>\n",
       "      <td>30.0000</td>\n",
       "      <td>C</td>\n",
       "      <td>First</td>\n",
       "      <td>man</td>\n",
       "      <td>True</td>\n",
       "      <td>C</td>\n",
       "      <td>Cherbourg</td>\n",
       "      <td>yes</td>\n",
       "      <td>True</td>\n",
       "    </tr>\n",
       "  </tbody>\n",
       "</table>\n",
       "<p>342 rows × 15 columns</p>\n",
       "</div>"
      ],
      "text/plain": [
       "     survived  pclass     sex   age  sibsp  parch     fare embarked   class  \\\n",
       "1           1       1  female  38.0      1      0  71.2833        C   First   \n",
       "2           1       3  female  26.0      0      0   7.9250        S   Third   \n",
       "3           1       1  female  35.0      1      0  53.1000        S   First   \n",
       "8           1       3  female  27.0      0      2  11.1333        S   Third   \n",
       "9           1       2  female  14.0      1      0  30.0708        C  Second   \n",
       "..        ...     ...     ...   ...    ...    ...      ...      ...     ...   \n",
       "875         1       3  female  15.0      0      0   7.2250        C   Third   \n",
       "879         1       1  female  56.0      0      1  83.1583        C   First   \n",
       "880         1       2  female  25.0      0      1  26.0000        S  Second   \n",
       "887         1       1  female  19.0      0      0  30.0000        S   First   \n",
       "889         1       1    male  26.0      0      0  30.0000        C   First   \n",
       "\n",
       "       who  adult_male deck  embark_town alive  alone  \n",
       "1    woman       False    C    Cherbourg   yes  False  \n",
       "2    woman       False  NaN  Southampton   yes   True  \n",
       "3    woman       False    C  Southampton   yes  False  \n",
       "8    woman       False  NaN  Southampton   yes  False  \n",
       "9    child       False  NaN    Cherbourg   yes  False  \n",
       "..     ...         ...  ...          ...   ...    ...  \n",
       "875  child       False  NaN    Cherbourg   yes   True  \n",
       "879  woman       False    C    Cherbourg   yes  False  \n",
       "880  woman       False  NaN  Southampton   yes  False  \n",
       "887  woman       False    B  Southampton   yes   True  \n",
       "889    man        True    C    Cherbourg   yes   True  \n",
       "\n",
       "[342 rows x 15 columns]"
      ]
     },
     "execution_count": 20,
     "metadata": {},
     "output_type": "execute_result"
    }
   ],
   "source": [
    "no # 사망자데이터\n",
    "yes # 생존자데이터"
   ]
  },
  {
   "cell_type": "code",
   "execution_count": 25,
   "id": "34e3e33a",
   "metadata": {},
   "outputs": [
    {
     "data": {
      "text/plain": [
       "female    233\n",
       "male      109\n",
       "Name: sex, dtype: int64"
      ]
     },
     "execution_count": 25,
     "metadata": {},
     "output_type": "execute_result"
    }
   ],
   "source": [
    "no_s = no.sex.value_counts()\n",
    "yes_s = yes.sex.value_counts()\n",
    "\n",
    "no_s\n",
    "yes_s"
   ]
  },
  {
   "cell_type": "code",
   "execution_count": 26,
   "id": "470160bf",
   "metadata": {},
   "outputs": [
    {
     "data": {
      "text/html": [
       "<div>\n",
       "<style scoped>\n",
       "    .dataframe tbody tr th:only-of-type {\n",
       "        vertical-align: middle;\n",
       "    }\n",
       "\n",
       "    .dataframe tbody tr th {\n",
       "        vertical-align: top;\n",
       "    }\n",
       "\n",
       "    .dataframe thead th {\n",
       "        text-align: right;\n",
       "    }\n",
       "</style>\n",
       "<table border=\"1\" class=\"dataframe\">\n",
       "  <thead>\n",
       "    <tr style=\"text-align: right;\">\n",
       "      <th></th>\n",
       "      <th>male</th>\n",
       "      <th>female</th>\n",
       "    </tr>\n",
       "  </thead>\n",
       "  <tbody>\n",
       "    <tr>\n",
       "      <th>0</th>\n",
       "      <td>468</td>\n",
       "      <td>81</td>\n",
       "    </tr>\n",
       "    <tr>\n",
       "      <th>1</th>\n",
       "      <td>109</td>\n",
       "      <td>233</td>\n",
       "    </tr>\n",
       "  </tbody>\n",
       "</table>\n",
       "</div>"
      ],
      "text/plain": [
       "   male  female\n",
       "0   468      81\n",
       "1   109     233"
      ]
     },
     "execution_count": 26,
     "metadata": {},
     "output_type": "execute_result"
    }
   ],
   "source": [
    "pd.DataFrame([no_s,yes_s],index=[0,1])"
   ]
  },
  {
   "cell_type": "code",
   "execution_count": 27,
   "id": "d306677d",
   "metadata": {},
   "outputs": [],
   "source": [
    "titanic_y_n = pd.DataFrame(titanic.loc[:,['sex','alive']].value_counts(), columns=['빈도수'])"
   ]
  },
  {
   "cell_type": "code",
   "execution_count": 28,
   "id": "7240ef73",
   "metadata": {},
   "outputs": [
    {
     "data": {
      "text/html": [
       "<div>\n",
       "<style scoped>\n",
       "    .dataframe tbody tr th:only-of-type {\n",
       "        vertical-align: middle;\n",
       "    }\n",
       "\n",
       "    .dataframe tbody tr th {\n",
       "        vertical-align: top;\n",
       "    }\n",
       "\n",
       "    .dataframe thead th {\n",
       "        text-align: right;\n",
       "    }\n",
       "</style>\n",
       "<table border=\"1\" class=\"dataframe\">\n",
       "  <thead>\n",
       "    <tr style=\"text-align: right;\">\n",
       "      <th></th>\n",
       "      <th></th>\n",
       "      <th>빈도수</th>\n",
       "    </tr>\n",
       "    <tr>\n",
       "      <th>sex</th>\n",
       "      <th>alive</th>\n",
       "      <th></th>\n",
       "    </tr>\n",
       "  </thead>\n",
       "  <tbody>\n",
       "    <tr>\n",
       "      <th>male</th>\n",
       "      <th>no</th>\n",
       "      <td>468</td>\n",
       "    </tr>\n",
       "    <tr>\n",
       "      <th>female</th>\n",
       "      <th>yes</th>\n",
       "      <td>233</td>\n",
       "    </tr>\n",
       "    <tr>\n",
       "      <th>male</th>\n",
       "      <th>yes</th>\n",
       "      <td>109</td>\n",
       "    </tr>\n",
       "    <tr>\n",
       "      <th>female</th>\n",
       "      <th>no</th>\n",
       "      <td>81</td>\n",
       "    </tr>\n",
       "  </tbody>\n",
       "</table>\n",
       "</div>"
      ],
      "text/plain": [
       "              빈도수\n",
       "sex    alive     \n",
       "male   no     468\n",
       "female yes    233\n",
       "male   yes    109\n",
       "female no      81"
      ]
     },
     "execution_count": 28,
     "metadata": {},
     "output_type": "execute_result"
    }
   ],
   "source": [
    "titanic_y_n"
   ]
  },
  {
   "cell_type": "code",
   "execution_count": 29,
   "id": "56b7d0cb",
   "metadata": {},
   "outputs": [
    {
     "data": {
      "text/html": [
       "<div>\n",
       "<style scoped>\n",
       "    .dataframe tbody tr th:only-of-type {\n",
       "        vertical-align: middle;\n",
       "    }\n",
       "\n",
       "    .dataframe tbody tr th {\n",
       "        vertical-align: top;\n",
       "    }\n",
       "\n",
       "    .dataframe thead tr th {\n",
       "        text-align: left;\n",
       "    }\n",
       "\n",
       "    .dataframe thead tr:last-of-type th {\n",
       "        text-align: right;\n",
       "    }\n",
       "</style>\n",
       "<table border=\"1\" class=\"dataframe\">\n",
       "  <thead>\n",
       "    <tr>\n",
       "      <th></th>\n",
       "      <th colspan=\"2\" halign=\"left\">빈도수</th>\n",
       "    </tr>\n",
       "    <tr>\n",
       "      <th>sex</th>\n",
       "      <th>female</th>\n",
       "      <th>male</th>\n",
       "    </tr>\n",
       "    <tr>\n",
       "      <th>alive</th>\n",
       "      <th></th>\n",
       "      <th></th>\n",
       "    </tr>\n",
       "  </thead>\n",
       "  <tbody>\n",
       "    <tr>\n",
       "      <th>no</th>\n",
       "      <td>81</td>\n",
       "      <td>468</td>\n",
       "    </tr>\n",
       "    <tr>\n",
       "      <th>yes</th>\n",
       "      <td>233</td>\n",
       "      <td>109</td>\n",
       "    </tr>\n",
       "  </tbody>\n",
       "</table>\n",
       "</div>"
      ],
      "text/plain": [
       "         빈도수     \n",
       "sex   female male\n",
       "alive            \n",
       "no        81  468\n",
       "yes      233  109"
      ]
     },
     "execution_count": 29,
     "metadata": {},
     "output_type": "execute_result"
    }
   ],
   "source": [
    "pd.pivot_table(titanic_y_n, index=['alive'], columns=['sex'])"
   ]
  },
  {
   "cell_type": "markdown",
   "id": "dcbe7084",
   "metadata": {},
   "source": [
    "#### 연습문제\n",
    "- 타이타닉호 승객을 사망자와 생존자 그룹으로 나누고(alive)\n",
    "- 각 그룹에 대해 미성년자, 청년, 중년, 장년, 노년 승객의 비율을 구하시오.\n",
    "    - bins=[1,15,25,35,60,99]\n",
    "    - labels=['미성년자','청년','중년','장년','노년']\n",
    "    - 각 그룹별 비유의 전체 합은 1이 되어야 한다."
   ]
  },
  {
   "cell_type": "code",
   "execution_count": 30,
   "id": "f7d229fe",
   "metadata": {},
   "outputs": [],
   "source": [
    "# 사망자/생존자 데이터 분리\n",
    "no=titanic[titanic.alive == 'no']\n",
    "yes = titanic[titanic.alive == 'yes']"
   ]
  },
  {
   "cell_type": "code",
   "execution_count": 32,
   "id": "a21e94a9",
   "metadata": {},
   "outputs": [
    {
     "data": {
      "text/plain": [
       "80.0"
      ]
     },
     "execution_count": 32,
     "metadata": {},
     "output_type": "execute_result"
    }
   ],
   "source": [
    "# bins의 범위 유효성 검사\n",
    "np.min(titanic.age) # <- 최소 값을 1로 시작하면 모든 나이가포함되지 않음\n",
    "np.max(titanic.age)"
   ]
  },
  {
   "cell_type": "code",
   "execution_count": 33,
   "id": "ddf8fae6",
   "metadata": {},
   "outputs": [],
   "source": [
    "bins=[0,15,25,35,60.99]\n",
    "# 0~15 구간 : 0살 ,미성년자 <=15\n",
    "labels = ['미성년자','청년','중년','장년','노년']"
   ]
  },
  {
   "cell_type": "code",
   "execution_count": 35,
   "id": "df521da5",
   "metadata": {},
   "outputs": [],
   "source": [
    "# no['age_cut'] = pd.cut(no['age'],bins,labels=labels)"
   ]
  },
  {
   "cell_type": "code",
   "execution_count": 36,
   "id": "37d9a3c8",
   "metadata": {},
   "outputs": [
    {
     "data": {
      "text/html": [
       "<div>\n",
       "<style scoped>\n",
       "    .dataframe tbody tr th:only-of-type {\n",
       "        vertical-align: middle;\n",
       "    }\n",
       "\n",
       "    .dataframe tbody tr th {\n",
       "        vertical-align: top;\n",
       "    }\n",
       "\n",
       "    .dataframe thead th {\n",
       "        text-align: right;\n",
       "    }\n",
       "</style>\n",
       "<table border=\"1\" class=\"dataframe\">\n",
       "  <thead>\n",
       "    <tr style=\"text-align: right;\">\n",
       "      <th></th>\n",
       "      <th>survived</th>\n",
       "      <th>pclass</th>\n",
       "      <th>sex</th>\n",
       "      <th>age</th>\n",
       "      <th>sibsp</th>\n",
       "      <th>parch</th>\n",
       "      <th>fare</th>\n",
       "      <th>embarked</th>\n",
       "      <th>class</th>\n",
       "      <th>who</th>\n",
       "      <th>adult_male</th>\n",
       "      <th>deck</th>\n",
       "      <th>embark_town</th>\n",
       "      <th>alive</th>\n",
       "      <th>alone</th>\n",
       "    </tr>\n",
       "  </thead>\n",
       "  <tbody>\n",
       "    <tr>\n",
       "      <th>0</th>\n",
       "      <td>0</td>\n",
       "      <td>3</td>\n",
       "      <td>male</td>\n",
       "      <td>22.0</td>\n",
       "      <td>1</td>\n",
       "      <td>0</td>\n",
       "      <td>7.25</td>\n",
       "      <td>S</td>\n",
       "      <td>Third</td>\n",
       "      <td>man</td>\n",
       "      <td>True</td>\n",
       "      <td>NaN</td>\n",
       "      <td>Southampton</td>\n",
       "      <td>no</td>\n",
       "      <td>False</td>\n",
       "    </tr>\n",
       "  </tbody>\n",
       "</table>\n",
       "</div>"
      ],
      "text/plain": [
       "   survived  pclass   sex   age  sibsp  parch  fare embarked  class  who  \\\n",
       "0         0       3  male  22.0      1      0  7.25        S  Third  man   \n",
       "\n",
       "   adult_male deck  embark_town alive  alone  \n",
       "0        True  NaN  Southampton    no  False  "
      ]
     },
     "execution_count": 36,
     "metadata": {},
     "output_type": "execute_result"
    }
   ],
   "source": [
    "no.head(1)"
   ]
  },
  {
   "cell_type": "code",
   "execution_count": null,
   "id": "69582fc7",
   "metadata": {},
   "outputs": [],
   "source": [
    "yes['age_cut'] = pd.cut(yes['age'],bins,labels=labels)"
   ]
  },
  {
   "cell_type": "markdown",
   "id": "bf47a53f",
   "metadata": {},
   "source": [
    "### cut 함수 정리\n",
    "- 데이터 값을 카테고리 값으로 변환\n",
    "\n",
    "- 값의 크기를 기준으로하여 카테고리 값으로 변환하고 싶을때\n",
    "    - cut(data,bins,labels)\n",
    "        - data : 구간 나눌 실제 값, \n",
    "        - bins : 구간 경계값\n",
    "        - labels: 카테고리값\n",
    "    - qcut(data,구간수,labels)"
   ]
  },
  {
   "cell_type": "code",
   "execution_count": 21,
   "id": "7180b6b6",
   "metadata": {},
   "outputs": [],
   "source": [
    "#구간을 나눌 실제 값 : 관측 데이터\n",
    "ages=[0,0.5,4,6,4,5,2,10,21,23,37,15,38,31,61,20,41,31,100]"
   ]
  },
  {
   "cell_type": "code",
   "execution_count": 36,
   "id": "464dd21b",
   "metadata": {},
   "outputs": [],
   "source": [
    "data = ages\n",
    "\n",
    "# 구간 경계값\n",
    "# 구간 최소값 < 구간 <= 구간 최대값\n",
    "#bins = [-1,4,18,25,35,60,100]\n",
    "bins = [0,4,18,25,35,60,100]\n",
    "# 각 구간의 이름 : labels=(카테고리명)\n",
    "# 순서는 구간(bins)순서와 동일해야 함\n",
    "labels = ['영유아','미성년자','청년','중년','장년','노년']"
   ]
  },
  {
   "cell_type": "code",
   "execution_count": 26,
   "id": "96d76e8d",
   "metadata": {},
   "outputs": [
    {
     "data": {
      "text/plain": [
       "['영유아', '영유아', '영유아', '미성년자', '영유아', ..., '노년', '청년', '장년', '중년', '노년']\n",
       "Length: 19\n",
       "Categories (6, object): ['영유아' < '미성년자' < '청년' < '중년' < '장년' < '노년']"
      ]
     },
     "execution_count": 26,
     "metadata": {},
     "output_type": "execute_result"
    }
   ],
   "source": [
    "cats = pd.cut(data, bins, labels=labels)\n",
    "cats"
   ]
  },
  {
   "cell_type": "code",
   "execution_count": 27,
   "id": "5ecbc246",
   "metadata": {},
   "outputs": [
    {
     "data": {
      "text/plain": [
       "pandas.core.arrays.categorical.Categorical"
      ]
     },
     "execution_count": 27,
     "metadata": {},
     "output_type": "execute_result"
    }
   ],
   "source": [
    "type(cats) # categorical.Categorical"
   ]
  },
  {
   "cell_type": "code",
   "execution_count": 28,
   "id": "bb9fa1b3",
   "metadata": {},
   "outputs": [
    {
     "data": {
      "text/plain": [
       "['영유아',\n",
       " '영유아',\n",
       " '영유아',\n",
       " '미성년자',\n",
       " '영유아',\n",
       " '미성년자',\n",
       " '영유아',\n",
       " '미성년자',\n",
       " '청년',\n",
       " '청년',\n",
       " '장년',\n",
       " '미성년자',\n",
       " '장년',\n",
       " '중년',\n",
       " '노년',\n",
       " '청년',\n",
       " '장년',\n",
       " '중년',\n",
       " '노년']"
      ]
     },
     "execution_count": 28,
     "metadata": {},
     "output_type": "execute_result"
    }
   ],
   "source": [
    "# 사용 시 list 변환 후 사용하는 게 좋음\n",
    "list(cats)"
   ]
  },
  {
   "cell_type": "markdown",
   "id": "01a93c9e",
   "metadata": {},
   "source": [
    "##### Categorical 클래스 객체\n",
    "- 카테고리명 속성 : Categorical.categories\n",
    "    - 카테고리명 저장\n",
    "- 코드 속성 : Categorical.codes \n",
    "    - 인코딩한 카테고리 값을 정수로 갖는다."
   ]
  },
  {
   "cell_type": "code",
   "execution_count": 30,
   "id": "22243572",
   "metadata": {},
   "outputs": [
    {
     "data": {
      "text/plain": [
       "pandas.core.arrays.categorical.Categorical"
      ]
     },
     "execution_count": 30,
     "metadata": {},
     "output_type": "execute_result"
    }
   ],
   "source": [
    "type(cats)"
   ]
  },
  {
   "cell_type": "code",
   "execution_count": 32,
   "id": "eb7e3903",
   "metadata": {},
   "outputs": [
    {
     "data": {
      "text/plain": [
       "Index(['영유아', '미성년자', '청년', '중년', '장년', '노년'], dtype='object')"
      ]
     },
     "execution_count": 32,
     "metadata": {},
     "output_type": "execute_result"
    }
   ],
   "source": [
    "cats.categories # cats 변수내의 범주 index를 저장"
   ]
  },
  {
   "cell_type": "code",
   "execution_count": 33,
   "id": "dfa989f6",
   "metadata": {},
   "outputs": [
    {
     "data": {
      "text/plain": [
       "['영유아', '영유아', '영유아', '미성년자', '영유아', ..., '노년', '청년', '장년', '중년', '노년']\n",
       "Length: 19\n",
       "Categories (6, object): ['영유아' < '미성년자' < '청년' < '중년' < '장년' < '노년']"
      ]
     },
     "execution_count": 33,
     "metadata": {},
     "output_type": "execute_result"
    }
   ],
   "source": [
    "cats"
   ]
  },
  {
   "cell_type": "code",
   "execution_count": 37,
   "id": "7ac086a6",
   "metadata": {},
   "outputs": [
    {
     "data": {
      "text/plain": [
       "array([0, 0, 0, 1, 0, 1, 0, 1, 2, 2, 4, 1, 4, 3, 5, 2, 4, 3, 5],\n",
       "      dtype=int8)"
      ]
     },
     "execution_count": 37,
     "metadata": {},
     "output_type": "execute_result"
    }
   ],
   "source": [
    "cats.codes # 카테고리 변환값에 대하여 범주 index내의 위치값\n",
    "# code 결과에 -1이 있으면 NaN 값을 코드화 한 내용"
   ]
  },
  {
   "cell_type": "markdown",
   "id": "a1e337e7",
   "metadata": {},
   "source": [
    "##### 구간 경계선을 지정하지 않고 데이터 개수가 같도록 지정한 수의 구간으로 분할하기 :  qcut()  \n",
    "\n",
    "- 형식 : pd.qcut(data,구간수,labels=[d1,d2....])\n",
    "    \n",
    "    \n",
    "    - 예)1000개의 데이터를 4구간으로 나누려고 한다면\n",
    "        - qcut 명령어를 사용 한 구간마다 250개씩 나누게 된다.\n",
    "        - 예외)같은 숫자인 경우에는 같은 구간으로 처리한다."
   ]
  },
  {
   "cell_type": "code",
   "execution_count": 41,
   "id": "a039f832",
   "metadata": {},
   "outputs": [
    {
     "data": {
      "text/plain": [
       "array([ 8, 15, 13,  8, 11, 18, 11,  8,  7,  2, 17, 11, 15,  5,  7,  3,  6,\n",
       "        4, 10, 11])"
      ]
     },
     "execution_count": 41,
     "metadata": {},
     "output_type": "execute_result"
    }
   ],
   "source": [
    "# 랜덤정수 20개를 생성하고 생성된 정수를 4개의 구간으로 나누시오.\n",
    "\n",
    "# 각 구간의 label은 Q1,Q2,Q3,Q4 로 설정하시오.\n",
    "\n",
    "np.random.seed(2)\n",
    "data = np.random.randint(20,size=20)\n",
    "data"
   ]
  },
  {
   "cell_type": "code",
   "execution_count": 42,
   "id": "06b2778f",
   "metadata": {},
   "outputs": [
    {
     "data": {
      "text/plain": [
       "['Q2', 'Q4', 'Q4', 'Q2', 'Q3', ..., 'Q1', 'Q1', 'Q1', 'Q3', 'Q3']\n",
       "Length: 20\n",
       "Categories (4, object): ['Q1' < 'Q2' < 'Q3' < 'Q4']"
      ]
     },
     "execution_count": 42,
     "metadata": {},
     "output_type": "execute_result"
    }
   ],
   "source": [
    "qcat = pd.qcut(data, 4, labels=['Q1','Q2','Q3','Q4'])\n",
    "qcat"
   ]
  },
  {
   "cell_type": "code",
   "execution_count": 43,
   "id": "1aa919ed",
   "metadata": {},
   "outputs": [
    {
     "data": {
      "text/plain": [
       "array([ 2,  3,  4,  5,  6,  7,  7,  8,  8,  8, 10, 11, 11, 11, 11, 13, 15,\n",
       "       15, 17, 18])"
      ]
     },
     "execution_count": 43,
     "metadata": {},
     "output_type": "execute_result"
    }
   ],
   "source": [
    "np.sort(data)"
   ]
  },
  {
   "cell_type": "code",
   "execution_count": 44,
   "id": "60926d0a",
   "metadata": {},
   "outputs": [
    {
     "data": {
      "text/plain": [
       "Q1    5\n",
       "Q2    5\n",
       "Q3    5\n",
       "Q4    5\n",
       "dtype: int64"
      ]
     },
     "execution_count": 44,
     "metadata": {},
     "output_type": "execute_result"
    }
   ],
   "source": [
    "pd.value_counts(qcat)"
   ]
  },
  {
   "cell_type": "code",
   "execution_count": 45,
   "id": "3b25f707",
   "metadata": {},
   "outputs": [
    {
     "data": {
      "text/html": [
       "<div>\n",
       "<style scoped>\n",
       "    .dataframe tbody tr th:only-of-type {\n",
       "        vertical-align: middle;\n",
       "    }\n",
       "\n",
       "    .dataframe tbody tr th {\n",
       "        vertical-align: top;\n",
       "    }\n",
       "\n",
       "    .dataframe thead th {\n",
       "        text-align: right;\n",
       "    }\n",
       "</style>\n",
       "<table border=\"1\" class=\"dataframe\">\n",
       "  <thead>\n",
       "    <tr style=\"text-align: right;\">\n",
       "      <th></th>\n",
       "      <th>관측수</th>\n",
       "      <th>범주</th>\n",
       "    </tr>\n",
       "  </thead>\n",
       "  <tbody>\n",
       "    <tr>\n",
       "      <th>0</th>\n",
       "      <td>8</td>\n",
       "      <td>Q2</td>\n",
       "    </tr>\n",
       "    <tr>\n",
       "      <th>1</th>\n",
       "      <td>15</td>\n",
       "      <td>Q4</td>\n",
       "    </tr>\n",
       "    <tr>\n",
       "      <th>2</th>\n",
       "      <td>13</td>\n",
       "      <td>Q4</td>\n",
       "    </tr>\n",
       "    <tr>\n",
       "      <th>3</th>\n",
       "      <td>8</td>\n",
       "      <td>Q2</td>\n",
       "    </tr>\n",
       "    <tr>\n",
       "      <th>4</th>\n",
       "      <td>11</td>\n",
       "      <td>Q3</td>\n",
       "    </tr>\n",
       "    <tr>\n",
       "      <th>5</th>\n",
       "      <td>18</td>\n",
       "      <td>Q4</td>\n",
       "    </tr>\n",
       "    <tr>\n",
       "      <th>6</th>\n",
       "      <td>11</td>\n",
       "      <td>Q3</td>\n",
       "    </tr>\n",
       "    <tr>\n",
       "      <th>7</th>\n",
       "      <td>8</td>\n",
       "      <td>Q2</td>\n",
       "    </tr>\n",
       "    <tr>\n",
       "      <th>8</th>\n",
       "      <td>7</td>\n",
       "      <td>Q2</td>\n",
       "    </tr>\n",
       "    <tr>\n",
       "      <th>9</th>\n",
       "      <td>2</td>\n",
       "      <td>Q1</td>\n",
       "    </tr>\n",
       "    <tr>\n",
       "      <th>10</th>\n",
       "      <td>17</td>\n",
       "      <td>Q4</td>\n",
       "    </tr>\n",
       "    <tr>\n",
       "      <th>11</th>\n",
       "      <td>11</td>\n",
       "      <td>Q3</td>\n",
       "    </tr>\n",
       "    <tr>\n",
       "      <th>12</th>\n",
       "      <td>15</td>\n",
       "      <td>Q4</td>\n",
       "    </tr>\n",
       "    <tr>\n",
       "      <th>13</th>\n",
       "      <td>5</td>\n",
       "      <td>Q1</td>\n",
       "    </tr>\n",
       "    <tr>\n",
       "      <th>14</th>\n",
       "      <td>7</td>\n",
       "      <td>Q2</td>\n",
       "    </tr>\n",
       "    <tr>\n",
       "      <th>15</th>\n",
       "      <td>3</td>\n",
       "      <td>Q1</td>\n",
       "    </tr>\n",
       "    <tr>\n",
       "      <th>16</th>\n",
       "      <td>6</td>\n",
       "      <td>Q1</td>\n",
       "    </tr>\n",
       "    <tr>\n",
       "      <th>17</th>\n",
       "      <td>4</td>\n",
       "      <td>Q1</td>\n",
       "    </tr>\n",
       "    <tr>\n",
       "      <th>18</th>\n",
       "      <td>10</td>\n",
       "      <td>Q3</td>\n",
       "    </tr>\n",
       "    <tr>\n",
       "      <th>19</th>\n",
       "      <td>11</td>\n",
       "      <td>Q3</td>\n",
       "    </tr>\n",
       "  </tbody>\n",
       "</table>\n",
       "</div>"
      ],
      "text/plain": [
       "    관측수  범주\n",
       "0     8  Q2\n",
       "1    15  Q4\n",
       "2    13  Q4\n",
       "3     8  Q2\n",
       "4    11  Q3\n",
       "5    18  Q4\n",
       "6    11  Q3\n",
       "7     8  Q2\n",
       "8     7  Q2\n",
       "9     2  Q1\n",
       "10   17  Q4\n",
       "11   11  Q3\n",
       "12   15  Q4\n",
       "13    5  Q1\n",
       "14    7  Q2\n",
       "15    3  Q1\n",
       "16    6  Q1\n",
       "17    4  Q1\n",
       "18   10  Q3\n",
       "19   11  Q3"
      ]
     },
     "execution_count": 45,
     "metadata": {},
     "output_type": "execute_result"
    }
   ],
   "source": [
    "df0 = pd.DataFrame(data, columns=['관측수'])\n",
    "df0['범주']=qcat\n",
    "df0"
   ]
  },
  {
   "cell_type": "markdown",
   "id": "32ad9969",
   "metadata": {},
   "source": [
    "#### 연습문제\n",
    "- ['id_1','id_2','id_3','id_4'] 와 같은 리스트 요소를\n",
    "- 내포 for문을 이용해서 생성후 리스트로 추가하시오."
   ]
  },
  {
   "cell_type": "code",
   "execution_count": 38,
   "id": "0ecad2b4",
   "metadata": {},
   "outputs": [
    {
     "data": {
      "text/plain": [
       "['id_1', 'id_2', 'id_3', 'id_4']"
      ]
     },
     "execution_count": 38,
     "metadata": {},
     "output_type": "execute_result"
    }
   ],
   "source": [
    "# 고정문자열(id_)과 반복 요소(1,2,3,4)를  조합하는 코드를 내포  for문으로 만들어보세요\n",
    "test = ['id_' + str(i) for i in range(1,5)]\n",
    "test"
   ]
  }
 ],
 "metadata": {
  "kernelspec": {
   "display_name": "Python 3 (ipykernel)",
   "language": "python",
   "name": "python3"
  },
  "language_info": {
   "codemirror_mode": {
    "name": "ipython",
    "version": 3
   },
   "file_extension": ".py",
   "mimetype": "text/x-python",
   "name": "python",
   "nbconvert_exporter": "python",
   "pygments_lexer": "ipython3",
   "version": "3.10.9"
  }
 },
 "nbformat": 4,
 "nbformat_minor": 5
}
